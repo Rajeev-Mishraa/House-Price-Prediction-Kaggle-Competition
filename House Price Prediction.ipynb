{
 "cells": [
  {
   "cell_type": "markdown",
   "id": "1b3b9cc5",
   "metadata": {
    "execution": {
     "iopub.execute_input": "2025-10-13T14:58:41.538361Z",
     "iopub.status.busy": "2025-10-13T14:58:41.537189Z",
     "iopub.status.idle": "2025-10-13T14:58:41.542775Z",
     "shell.execute_reply": "2025-10-13T14:58:41.541609Z",
     "shell.execute_reply.started": "2025-10-13T14:58:41.538328Z"
    },
    "papermill": {
     "duration": 0.009005,
     "end_time": "2025-10-25T15:03:46.177147",
     "exception": false,
     "start_time": "2025-10-25T15:03:46.168142",
     "status": "completed"
    },
    "tags": []
   },
   "source": [
    "# House Prices - Advanced Regression Techniques\n",
    "The main goal of this project is to predict sales prices and practice feature engineering, RFs, and gradient boosting\n",
    "\n"
   ]
  },
  {
   "cell_type": "code",
   "execution_count": 1,
   "id": "80f950db",
   "metadata": {
    "execution": {
     "iopub.execute_input": "2025-10-25T15:03:46.194351Z",
     "iopub.status.busy": "2025-10-25T15:03:46.194000Z",
     "iopub.status.idle": "2025-10-25T15:03:50.135150Z",
     "shell.execute_reply": "2025-10-25T15:03:50.134235Z"
    },
    "papermill": {
     "duration": 3.951589,
     "end_time": "2025-10-25T15:03:50.136786",
     "exception": false,
     "start_time": "2025-10-25T15:03:46.185197",
     "status": "completed"
    },
    "tags": []
   },
   "outputs": [],
   "source": [
    "import pandas as pd\n",
    "import numpy as np\n",
    "import matplotlib.pyplot as plt\n",
    "import seaborn as sns"
   ]
  },
  {
   "cell_type": "code",
   "execution_count": 2,
   "id": "0eacb11a",
   "metadata": {
    "execution": {
     "iopub.execute_input": "2025-10-25T15:03:50.153609Z",
     "iopub.status.busy": "2025-10-25T15:03:50.153065Z",
     "iopub.status.idle": "2025-10-25T15:03:50.226826Z",
     "shell.execute_reply": "2025-10-25T15:03:50.225950Z"
    },
    "papermill": {
     "duration": 0.083562,
     "end_time": "2025-10-25T15:03:50.228143",
     "exception": false,
     "start_time": "2025-10-25T15:03:50.144581",
     "status": "completed"
    },
    "tags": []
   },
   "outputs": [
    {
     "data": {
      "text/html": [
       "<div>\n",
       "<style scoped>\n",
       "    .dataframe tbody tr th:only-of-type {\n",
       "        vertical-align: middle;\n",
       "    }\n",
       "\n",
       "    .dataframe tbody tr th {\n",
       "        vertical-align: top;\n",
       "    }\n",
       "\n",
       "    .dataframe thead th {\n",
       "        text-align: right;\n",
       "    }\n",
       "</style>\n",
       "<table border=\"1\" class=\"dataframe\">\n",
       "  <thead>\n",
       "    <tr style=\"text-align: right;\">\n",
       "      <th></th>\n",
       "      <th>Id</th>\n",
       "      <th>MSSubClass</th>\n",
       "      <th>MSZoning</th>\n",
       "      <th>LotFrontage</th>\n",
       "      <th>LotArea</th>\n",
       "      <th>Street</th>\n",
       "      <th>Alley</th>\n",
       "      <th>LotShape</th>\n",
       "      <th>LandContour</th>\n",
       "      <th>Utilities</th>\n",
       "      <th>...</th>\n",
       "      <th>PoolArea</th>\n",
       "      <th>PoolQC</th>\n",
       "      <th>Fence</th>\n",
       "      <th>MiscFeature</th>\n",
       "      <th>MiscVal</th>\n",
       "      <th>MoSold</th>\n",
       "      <th>YrSold</th>\n",
       "      <th>SaleType</th>\n",
       "      <th>SaleCondition</th>\n",
       "      <th>SalePrice</th>\n",
       "    </tr>\n",
       "  </thead>\n",
       "  <tbody>\n",
       "    <tr>\n",
       "      <th>0</th>\n",
       "      <td>1</td>\n",
       "      <td>60</td>\n",
       "      <td>RL</td>\n",
       "      <td>65.0</td>\n",
       "      <td>8450</td>\n",
       "      <td>Pave</td>\n",
       "      <td>NaN</td>\n",
       "      <td>Reg</td>\n",
       "      <td>Lvl</td>\n",
       "      <td>AllPub</td>\n",
       "      <td>...</td>\n",
       "      <td>0</td>\n",
       "      <td>NaN</td>\n",
       "      <td>NaN</td>\n",
       "      <td>NaN</td>\n",
       "      <td>0</td>\n",
       "      <td>2</td>\n",
       "      <td>2008</td>\n",
       "      <td>WD</td>\n",
       "      <td>Normal</td>\n",
       "      <td>208500</td>\n",
       "    </tr>\n",
       "    <tr>\n",
       "      <th>1</th>\n",
       "      <td>2</td>\n",
       "      <td>20</td>\n",
       "      <td>RL</td>\n",
       "      <td>80.0</td>\n",
       "      <td>9600</td>\n",
       "      <td>Pave</td>\n",
       "      <td>NaN</td>\n",
       "      <td>Reg</td>\n",
       "      <td>Lvl</td>\n",
       "      <td>AllPub</td>\n",
       "      <td>...</td>\n",
       "      <td>0</td>\n",
       "      <td>NaN</td>\n",
       "      <td>NaN</td>\n",
       "      <td>NaN</td>\n",
       "      <td>0</td>\n",
       "      <td>5</td>\n",
       "      <td>2007</td>\n",
       "      <td>WD</td>\n",
       "      <td>Normal</td>\n",
       "      <td>181500</td>\n",
       "    </tr>\n",
       "    <tr>\n",
       "      <th>2</th>\n",
       "      <td>3</td>\n",
       "      <td>60</td>\n",
       "      <td>RL</td>\n",
       "      <td>68.0</td>\n",
       "      <td>11250</td>\n",
       "      <td>Pave</td>\n",
       "      <td>NaN</td>\n",
       "      <td>IR1</td>\n",
       "      <td>Lvl</td>\n",
       "      <td>AllPub</td>\n",
       "      <td>...</td>\n",
       "      <td>0</td>\n",
       "      <td>NaN</td>\n",
       "      <td>NaN</td>\n",
       "      <td>NaN</td>\n",
       "      <td>0</td>\n",
       "      <td>9</td>\n",
       "      <td>2008</td>\n",
       "      <td>WD</td>\n",
       "      <td>Normal</td>\n",
       "      <td>223500</td>\n",
       "    </tr>\n",
       "    <tr>\n",
       "      <th>3</th>\n",
       "      <td>4</td>\n",
       "      <td>70</td>\n",
       "      <td>RL</td>\n",
       "      <td>60.0</td>\n",
       "      <td>9550</td>\n",
       "      <td>Pave</td>\n",
       "      <td>NaN</td>\n",
       "      <td>IR1</td>\n",
       "      <td>Lvl</td>\n",
       "      <td>AllPub</td>\n",
       "      <td>...</td>\n",
       "      <td>0</td>\n",
       "      <td>NaN</td>\n",
       "      <td>NaN</td>\n",
       "      <td>NaN</td>\n",
       "      <td>0</td>\n",
       "      <td>2</td>\n",
       "      <td>2006</td>\n",
       "      <td>WD</td>\n",
       "      <td>Abnorml</td>\n",
       "      <td>140000</td>\n",
       "    </tr>\n",
       "    <tr>\n",
       "      <th>4</th>\n",
       "      <td>5</td>\n",
       "      <td>60</td>\n",
       "      <td>RL</td>\n",
       "      <td>84.0</td>\n",
       "      <td>14260</td>\n",
       "      <td>Pave</td>\n",
       "      <td>NaN</td>\n",
       "      <td>IR1</td>\n",
       "      <td>Lvl</td>\n",
       "      <td>AllPub</td>\n",
       "      <td>...</td>\n",
       "      <td>0</td>\n",
       "      <td>NaN</td>\n",
       "      <td>NaN</td>\n",
       "      <td>NaN</td>\n",
       "      <td>0</td>\n",
       "      <td>12</td>\n",
       "      <td>2008</td>\n",
       "      <td>WD</td>\n",
       "      <td>Normal</td>\n",
       "      <td>250000</td>\n",
       "    </tr>\n",
       "  </tbody>\n",
       "</table>\n",
       "<p>5 rows × 81 columns</p>\n",
       "</div>"
      ],
      "text/plain": [
       "   Id  MSSubClass MSZoning  LotFrontage  LotArea Street Alley LotShape  \\\n",
       "0   1          60       RL         65.0     8450   Pave   NaN      Reg   \n",
       "1   2          20       RL         80.0     9600   Pave   NaN      Reg   \n",
       "2   3          60       RL         68.0    11250   Pave   NaN      IR1   \n",
       "3   4          70       RL         60.0     9550   Pave   NaN      IR1   \n",
       "4   5          60       RL         84.0    14260   Pave   NaN      IR1   \n",
       "\n",
       "  LandContour Utilities  ... PoolArea PoolQC Fence MiscFeature MiscVal MoSold  \\\n",
       "0         Lvl    AllPub  ...        0    NaN   NaN         NaN       0      2   \n",
       "1         Lvl    AllPub  ...        0    NaN   NaN         NaN       0      5   \n",
       "2         Lvl    AllPub  ...        0    NaN   NaN         NaN       0      9   \n",
       "3         Lvl    AllPub  ...        0    NaN   NaN         NaN       0      2   \n",
       "4         Lvl    AllPub  ...        0    NaN   NaN         NaN       0     12   \n",
       "\n",
       "  YrSold  SaleType  SaleCondition  SalePrice  \n",
       "0   2008        WD         Normal     208500  \n",
       "1   2007        WD         Normal     181500  \n",
       "2   2008        WD         Normal     223500  \n",
       "3   2006        WD        Abnorml     140000  \n",
       "4   2008        WD         Normal     250000  \n",
       "\n",
       "[5 rows x 81 columns]"
      ]
     },
     "execution_count": 2,
     "metadata": {},
     "output_type": "execute_result"
    }
   ],
   "source": [
    "df = pd.read_csv('/kaggle/input/house-prices-advanced-regression-techniques/train.csv')\n",
    "df.head()"
   ]
  },
  {
   "cell_type": "code",
   "execution_count": 3,
   "id": "2216a5ab",
   "metadata": {
    "execution": {
     "iopub.execute_input": "2025-10-25T15:03:50.245599Z",
     "iopub.status.busy": "2025-10-25T15:03:50.245000Z",
     "iopub.status.idle": "2025-10-25T15:03:50.250350Z",
     "shell.execute_reply": "2025-10-25T15:03:50.249526Z"
    },
    "papermill": {
     "duration": 0.015476,
     "end_time": "2025-10-25T15:03:50.251703",
     "exception": false,
     "start_time": "2025-10-25T15:03:50.236227",
     "status": "completed"
    },
    "tags": []
   },
   "outputs": [
    {
     "data": {
      "text/plain": [
       "(1460, 81)"
      ]
     },
     "execution_count": 3,
     "metadata": {},
     "output_type": "execute_result"
    }
   ],
   "source": [
    "df.shape"
   ]
  },
  {
   "cell_type": "code",
   "execution_count": 4,
   "id": "b9f29ee0",
   "metadata": {
    "execution": {
     "iopub.execute_input": "2025-10-25T15:03:50.269042Z",
     "iopub.status.busy": "2025-10-25T15:03:50.268685Z",
     "iopub.status.idle": "2025-10-25T15:03:50.297199Z",
     "shell.execute_reply": "2025-10-25T15:03:50.295947Z"
    },
    "papermill": {
     "duration": 0.038908,
     "end_time": "2025-10-25T15:03:50.298653",
     "exception": false,
     "start_time": "2025-10-25T15:03:50.259745",
     "status": "completed"
    },
    "tags": []
   },
   "outputs": [
    {
     "name": "stdout",
     "output_type": "stream",
     "text": [
      "<class 'pandas.core.frame.DataFrame'>\n",
      "RangeIndex: 1460 entries, 0 to 1459\n",
      "Data columns (total 81 columns):\n",
      " #   Column         Non-Null Count  Dtype  \n",
      "---  ------         --------------  -----  \n",
      " 0   Id             1460 non-null   int64  \n",
      " 1   MSSubClass     1460 non-null   int64  \n",
      " 2   MSZoning       1460 non-null   object \n",
      " 3   LotFrontage    1201 non-null   float64\n",
      " 4   LotArea        1460 non-null   int64  \n",
      " 5   Street         1460 non-null   object \n",
      " 6   Alley          91 non-null     object \n",
      " 7   LotShape       1460 non-null   object \n",
      " 8   LandContour    1460 non-null   object \n",
      " 9   Utilities      1460 non-null   object \n",
      " 10  LotConfig      1460 non-null   object \n",
      " 11  LandSlope      1460 non-null   object \n",
      " 12  Neighborhood   1460 non-null   object \n",
      " 13  Condition1     1460 non-null   object \n",
      " 14  Condition2     1460 non-null   object \n",
      " 15  BldgType       1460 non-null   object \n",
      " 16  HouseStyle     1460 non-null   object \n",
      " 17  OverallQual    1460 non-null   int64  \n",
      " 18  OverallCond    1460 non-null   int64  \n",
      " 19  YearBuilt      1460 non-null   int64  \n",
      " 20  YearRemodAdd   1460 non-null   int64  \n",
      " 21  RoofStyle      1460 non-null   object \n",
      " 22  RoofMatl       1460 non-null   object \n",
      " 23  Exterior1st    1460 non-null   object \n",
      " 24  Exterior2nd    1460 non-null   object \n",
      " 25  MasVnrType     588 non-null    object \n",
      " 26  MasVnrArea     1452 non-null   float64\n",
      " 27  ExterQual      1460 non-null   object \n",
      " 28  ExterCond      1460 non-null   object \n",
      " 29  Foundation     1460 non-null   object \n",
      " 30  BsmtQual       1423 non-null   object \n",
      " 31  BsmtCond       1423 non-null   object \n",
      " 32  BsmtExposure   1422 non-null   object \n",
      " 33  BsmtFinType1   1423 non-null   object \n",
      " 34  BsmtFinSF1     1460 non-null   int64  \n",
      " 35  BsmtFinType2   1422 non-null   object \n",
      " 36  BsmtFinSF2     1460 non-null   int64  \n",
      " 37  BsmtUnfSF      1460 non-null   int64  \n",
      " 38  TotalBsmtSF    1460 non-null   int64  \n",
      " 39  Heating        1460 non-null   object \n",
      " 40  HeatingQC      1460 non-null   object \n",
      " 41  CentralAir     1460 non-null   object \n",
      " 42  Electrical     1459 non-null   object \n",
      " 43  1stFlrSF       1460 non-null   int64  \n",
      " 44  2ndFlrSF       1460 non-null   int64  \n",
      " 45  LowQualFinSF   1460 non-null   int64  \n",
      " 46  GrLivArea      1460 non-null   int64  \n",
      " 47  BsmtFullBath   1460 non-null   int64  \n",
      " 48  BsmtHalfBath   1460 non-null   int64  \n",
      " 49  FullBath       1460 non-null   int64  \n",
      " 50  HalfBath       1460 non-null   int64  \n",
      " 51  BedroomAbvGr   1460 non-null   int64  \n",
      " 52  KitchenAbvGr   1460 non-null   int64  \n",
      " 53  KitchenQual    1460 non-null   object \n",
      " 54  TotRmsAbvGrd   1460 non-null   int64  \n",
      " 55  Functional     1460 non-null   object \n",
      " 56  Fireplaces     1460 non-null   int64  \n",
      " 57  FireplaceQu    770 non-null    object \n",
      " 58  GarageType     1379 non-null   object \n",
      " 59  GarageYrBlt    1379 non-null   float64\n",
      " 60  GarageFinish   1379 non-null   object \n",
      " 61  GarageCars     1460 non-null   int64  \n",
      " 62  GarageArea     1460 non-null   int64  \n",
      " 63  GarageQual     1379 non-null   object \n",
      " 64  GarageCond     1379 non-null   object \n",
      " 65  PavedDrive     1460 non-null   object \n",
      " 66  WoodDeckSF     1460 non-null   int64  \n",
      " 67  OpenPorchSF    1460 non-null   int64  \n",
      " 68  EnclosedPorch  1460 non-null   int64  \n",
      " 69  3SsnPorch      1460 non-null   int64  \n",
      " 70  ScreenPorch    1460 non-null   int64  \n",
      " 71  PoolArea       1460 non-null   int64  \n",
      " 72  PoolQC         7 non-null      object \n",
      " 73  Fence          281 non-null    object \n",
      " 74  MiscFeature    54 non-null     object \n",
      " 75  MiscVal        1460 non-null   int64  \n",
      " 76  MoSold         1460 non-null   int64  \n",
      " 77  YrSold         1460 non-null   int64  \n",
      " 78  SaleType       1460 non-null   object \n",
      " 79  SaleCondition  1460 non-null   object \n",
      " 80  SalePrice      1460 non-null   int64  \n",
      "dtypes: float64(3), int64(35), object(43)\n",
      "memory usage: 924.0+ KB\n"
     ]
    }
   ],
   "source": [
    "df.info()"
   ]
  },
  {
   "cell_type": "markdown",
   "id": "cf7a1377",
   "metadata": {
    "papermill": {
     "duration": 0.008708,
     "end_time": "2025-10-25T15:03:50.316780",
     "exception": false,
     "start_time": "2025-10-25T15:03:50.308072",
     "status": "completed"
    },
    "tags": []
   },
   "source": [
    "## Data Cleaning"
   ]
  },
  {
   "cell_type": "markdown",
   "id": "fbba07dd",
   "metadata": {
    "papermill": {
     "duration": 0.007681,
     "end_time": "2025-10-25T15:03:50.332536",
     "exception": false,
     "start_time": "2025-10-25T15:03:50.324855",
     "status": "completed"
    },
    "tags": []
   },
   "source": [
    "#### Handling Missing Values"
   ]
  },
  {
   "cell_type": "code",
   "execution_count": 5,
   "id": "c62e4fd9",
   "metadata": {
    "execution": {
     "iopub.execute_input": "2025-10-25T15:03:50.350273Z",
     "iopub.status.busy": "2025-10-25T15:03:50.349480Z",
     "iopub.status.idle": "2025-10-25T15:03:51.229555Z",
     "shell.execute_reply": "2025-10-25T15:03:51.228724Z"
    },
    "papermill": {
     "duration": 0.890964,
     "end_time": "2025-10-25T15:03:51.231542",
     "exception": false,
     "start_time": "2025-10-25T15:03:50.340578",
     "status": "completed"
    },
    "tags": []
   },
   "outputs": [
    {
     "data": {
      "text/plain": [
       "<Axes: >"
      ]
     },
     "execution_count": 5,
     "metadata": {},
     "output_type": "execute_result"
    },
    {
     "data": {
      "image/png": "[encoded data removed]",
      "text/plain": [
       "<Figure size 640x480 with 2 Axes>"
      ]
     },
     "metadata": {},
     "output_type": "display_data"
    }
   ],
   "source": [
    "sns.heatmap(df.isnull())"
   ]
  },
  {
   "cell_type": "code",
   "execution_count": 6,
   "id": "36c4f153",
   "metadata": {
    "execution": {
     "iopub.execute_input": "2025-10-25T15:03:51.251790Z",
     "iopub.status.busy": "2025-10-25T15:03:51.251176Z",
     "iopub.status.idle": "2025-10-25T15:03:51.256788Z",
     "shell.execute_reply": "2025-10-25T15:03:51.255915Z"
    },
    "papermill": {
     "duration": 0.017009,
     "end_time": "2025-10-25T15:03:51.258193",
     "exception": false,
     "start_time": "2025-10-25T15:03:51.241184",
     "status": "completed"
    },
    "tags": []
   },
   "outputs": [
    {
     "data": {
      "text/plain": [
       "1460"
      ]
     },
     "execution_count": 6,
     "metadata": {},
     "output_type": "execute_result"
    }
   ],
   "source": [
    "n_rows = len(df)\n",
    "n_rows"
   ]
  },
  {
   "cell_type": "code",
   "execution_count": 7,
   "id": "4a1b5024",
   "metadata": {
    "execution": {
     "iopub.execute_input": "2025-10-25T15:03:51.278823Z",
     "iopub.status.busy": "2025-10-25T15:03:51.278086Z",
     "iopub.status.idle": "2025-10-25T15:03:51.288905Z",
     "shell.execute_reply": "2025-10-25T15:03:51.288188Z"
    },
    "papermill": {
     "duration": 0.022382,
     "end_time": "2025-10-25T15:03:51.290191",
     "exception": false,
     "start_time": "2025-10-25T15:03:51.267809",
     "status": "completed"
    },
    "tags": []
   },
   "outputs": [
    {
     "data": {
      "text/plain": [
       "Index(['Alley', 'MasVnrType', 'PoolQC', 'Fence', 'MiscFeature'], dtype='object')"
      ]
     },
     "execution_count": 7,
     "metadata": {},
     "output_type": "execute_result"
    }
   ],
   "source": [
    "# Find columns with more than 50% missing values\n",
    "columns_with_missingvalues = df.columns[df.isnull().sum() > (n_rows/2)]\n",
    "columns_with_missingvalues\n"
   ]
  },
  {
   "cell_type": "code",
   "execution_count": 8,
   "id": "fda61114",
   "metadata": {
    "execution": {
     "iopub.execute_input": "2025-10-25T15:03:51.310600Z",
     "iopub.status.busy": "2025-10-25T15:03:51.309914Z",
     "iopub.status.idle": "2025-10-25T15:03:51.316304Z",
     "shell.execute_reply": "2025-10-25T15:03:51.315578Z"
    },
    "papermill": {
     "duration": 0.017833,
     "end_time": "2025-10-25T15:03:51.317615",
     "exception": false,
     "start_time": "2025-10-25T15:03:51.299782",
     "status": "completed"
    },
    "tags": []
   },
   "outputs": [],
   "source": [
    "df.drop(columns_with_missingvalues, axis =1, inplace = True)"
   ]
  },
  {
   "cell_type": "code",
   "execution_count": 9,
   "id": "50a7a8e7",
   "metadata": {
    "execution": {
     "iopub.execute_input": "2025-10-25T15:03:51.338159Z",
     "iopub.status.busy": "2025-10-25T15:03:51.337483Z",
     "iopub.status.idle": "2025-10-25T15:03:51.342712Z",
     "shell.execute_reply": "2025-10-25T15:03:51.341979Z"
    },
    "papermill": {
     "duration": 0.01698,
     "end_time": "2025-10-25T15:03:51.344072",
     "exception": false,
     "start_time": "2025-10-25T15:03:51.327092",
     "status": "completed"
    },
    "tags": []
   },
   "outputs": [
    {
     "data": {
      "text/plain": [
       "(1460, 76)"
      ]
     },
     "execution_count": 9,
     "metadata": {},
     "output_type": "execute_result"
    }
   ],
   "source": [
    "df.shape"
   ]
  },
  {
   "cell_type": "markdown",
   "id": "8c8ca0c2",
   "metadata": {
    "papermill": {
     "duration": 0.009369,
     "end_time": "2025-10-25T15:03:51.363131",
     "exception": false,
     "start_time": "2025-10-25T15:03:51.353762",
     "status": "completed"
    },
    "tags": []
   },
   "source": [
    "#### Filling Missing Values"
   ]
  },
  {
   "cell_type": "code",
   "execution_count": 10,
   "id": "0b3a38dc",
   "metadata": {
    "execution": {
     "iopub.execute_input": "2025-10-25T15:03:51.383549Z",
     "iopub.status.busy": "2025-10-25T15:03:51.382888Z",
     "iopub.status.idle": "2025-10-25T15:03:51.392550Z",
     "shell.execute_reply": "2025-10-25T15:03:51.391722Z"
    },
    "papermill": {
     "duration": 0.021215,
     "end_time": "2025-10-25T15:03:51.393865",
     "exception": false,
     "start_time": "2025-10-25T15:03:51.372650",
     "status": "completed"
    },
    "tags": []
   },
   "outputs": [
    {
     "data": {
      "text/plain": [
       "Index(['LotFrontage', 'MasVnrArea', 'BsmtQual', 'BsmtCond', 'BsmtExposure',\n",
       "       'BsmtFinType1', 'BsmtFinType2', 'Electrical', 'FireplaceQu',\n",
       "       'GarageType', 'GarageYrBlt', 'GarageFinish', 'GarageQual',\n",
       "       'GarageCond'],\n",
       "      dtype='object')"
      ]
     },
     "execution_count": 10,
     "metadata": {},
     "output_type": "execute_result"
    }
   ],
   "source": [
    "missing_value_columns = df.columns[df.isnull().sum() > 0]\n",
    "missing_value_columns"
   ]
  },
  {
   "cell_type": "code",
   "execution_count": 11,
   "id": "8a3e6e9e",
   "metadata": {
    "execution": {
     "iopub.execute_input": "2025-10-25T15:03:51.414207Z",
     "iopub.status.busy": "2025-10-25T15:03:51.413877Z",
     "iopub.status.idle": "2025-10-25T15:03:51.422846Z",
     "shell.execute_reply": "2025-10-25T15:03:51.422105Z"
    },
    "papermill": {
     "duration": 0.02079,
     "end_time": "2025-10-25T15:03:51.424250",
     "exception": false,
     "start_time": "2025-10-25T15:03:51.403460",
     "status": "completed"
    },
    "tags": []
   },
   "outputs": [
    {
     "data": {
      "text/plain": [
       "LotFrontage     259\n",
       "MasVnrArea        8\n",
       "BsmtQual         37\n",
       "BsmtCond         37\n",
       "BsmtExposure     38\n",
       "BsmtFinType1     37\n",
       "BsmtFinType2     38\n",
       "Electrical        1\n",
       "FireplaceQu     690\n",
       "GarageType       81\n",
       "GarageYrBlt      81\n",
       "GarageFinish     81\n",
       "GarageQual       81\n",
       "GarageCond       81\n",
       "dtype: int64"
      ]
     },
     "execution_count": 11,
     "metadata": {},
     "output_type": "execute_result"
    }
   ],
   "source": [
    "df[missing_value_columns].isnull().sum()"
   ]
  },
  {
   "cell_type": "code",
   "execution_count": 12,
   "id": "a91d2bc2",
   "metadata": {
    "execution": {
     "iopub.execute_input": "2025-10-25T15:03:51.444440Z",
     "iopub.status.busy": "2025-10-25T15:03:51.444089Z",
     "iopub.status.idle": "2025-10-25T15:03:51.455983Z",
     "shell.execute_reply": "2025-10-25T15:03:51.455002Z"
    },
    "papermill": {
     "duration": 0.023545,
     "end_time": "2025-10-25T15:03:51.457387",
     "exception": false,
     "start_time": "2025-10-25T15:03:51.433842",
     "status": "completed"
    },
    "tags": []
   },
   "outputs": [
    {
     "name": "stdout",
     "output_type": "stream",
     "text": [
      "<class 'pandas.core.frame.DataFrame'>\n",
      "RangeIndex: 1460 entries, 0 to 1459\n",
      "Data columns (total 14 columns):\n",
      " #   Column        Non-Null Count  Dtype  \n",
      "---  ------        --------------  -----  \n",
      " 0   LotFrontage   1201 non-null   float64\n",
      " 1   MasVnrArea    1452 non-null   float64\n",
      " 2   BsmtQual      1423 non-null   object \n",
      " 3   BsmtCond      1423 non-null   object \n",
      " 4   BsmtExposure  1422 non-null   object \n",
      " 5   BsmtFinType1  1423 non-null   object \n",
      " 6   BsmtFinType2  1422 non-null   object \n",
      " 7   Electrical    1459 non-null   object \n",
      " 8   FireplaceQu   770 non-null    object \n",
      " 9   GarageType    1379 non-null   object \n",
      " 10  GarageYrBlt   1379 non-null   float64\n",
      " 11  GarageFinish  1379 non-null   object \n",
      " 12  GarageQual    1379 non-null   object \n",
      " 13  GarageCond    1379 non-null   object \n",
      "dtypes: float64(3), object(11)\n",
      "memory usage: 159.8+ KB\n"
     ]
    }
   ],
   "source": [
    "df[missing_value_columns].info()"
   ]
  },
  {
   "cell_type": "code",
   "execution_count": 13,
   "id": "eed06957",
   "metadata": {
    "execution": {
     "iopub.execute_input": "2025-10-25T15:03:51.478095Z",
     "iopub.status.busy": "2025-10-25T15:03:51.477793Z",
     "iopub.status.idle": "2025-10-25T15:03:51.496621Z",
     "shell.execute_reply": "2025-10-25T15:03:51.495703Z"
    },
    "papermill": {
     "duration": 0.030989,
     "end_time": "2025-10-25T15:03:51.498110",
     "exception": false,
     "start_time": "2025-10-25T15:03:51.467121",
     "status": "completed"
    },
    "tags": []
   },
   "outputs": [],
   "source": [
    "#Filling Missing Values\n",
    "#Fill the missing values like this for all columns\n",
    "df['LotFrontage'] = df['LotFrontage'].fillna(df['LotFrontage'].mean())\n",
    "df['MasVnrArea'] = df['MasVnrArea'].fillna(df['MasVnrArea'].mean())\n",
    "df['GarageYrBlt'] = df['GarageYrBlt'].fillna(df['GarageYrBlt'].mean())\n",
    "\n",
    "df['BsmtQual'] = df['BsmtQual'].fillna(df['BsmtQual'].mode()[0])\n",
    "df['BsmtCond'] = df['BsmtCond'].fillna(df['BsmtCond'].mode()[0])\n",
    "df['BsmtExposure'] = df['BsmtExposure'].fillna(df['BsmtExposure'].mode()[0])\n",
    "df['BsmtFinType1'] = df['BsmtFinType1'].fillna(df['BsmtFinType1'].mode()[0])\n",
    "df['BsmtFinType2'] = df['BsmtFinType2'].fillna(df['BsmtFinType2'].mode()[0])\n",
    "df['Electrical'] = df['Electrical'].fillna(df['Electrical'].mode()[0])\n",
    "df['FireplaceQu'] = df['FireplaceQu'].fillna(df['FireplaceQu'].mode()[0])\n",
    "df['GarageType'] = df['GarageType'].fillna(df['GarageType'].mode()[0])\n",
    "df['GarageFinish'] = df['GarageFinish'].fillna(df['GarageFinish'].mode()[0])\n",
    "df['GarageQual'] = df['GarageQual'].fillna(df['GarageQual'].mode()[0])\n",
    "df['GarageCond'] = df['GarageCond'].fillna(df['GarageCond'].mode()[0])\n"
   ]
  },
  {
   "cell_type": "code",
   "execution_count": 14,
   "id": "eda60f3e",
   "metadata": {
    "execution": {
     "iopub.execute_input": "2025-10-25T15:03:51.518837Z",
     "iopub.status.busy": "2025-10-25T15:03:51.518535Z",
     "iopub.status.idle": "2025-10-25T15:03:51.534375Z",
     "shell.execute_reply": "2025-10-25T15:03:51.533582Z"
    },
    "papermill": {
     "duration": 0.027713,
     "end_time": "2025-10-25T15:03:51.535679",
     "exception": false,
     "start_time": "2025-10-25T15:03:51.507966",
     "status": "completed"
    },
    "tags": []
   },
   "outputs": [
    {
     "data": {
      "text/html": [
       "<div>\n",
       "<style scoped>\n",
       "    .dataframe tbody tr th:only-of-type {\n",
       "        vertical-align: middle;\n",
       "    }\n",
       "\n",
       "    .dataframe tbody tr th {\n",
       "        vertical-align: top;\n",
       "    }\n",
       "\n",
       "    .dataframe thead th {\n",
       "        text-align: right;\n",
       "    }\n",
       "</style>\n",
       "<table border=\"1\" class=\"dataframe\">\n",
       "  <thead>\n",
       "    <tr style=\"text-align: right;\">\n",
       "      <th></th>\n",
       "      <th>Id</th>\n",
       "      <th>MSSubClass</th>\n",
       "      <th>MSZoning</th>\n",
       "      <th>LotFrontage</th>\n",
       "      <th>LotArea</th>\n",
       "      <th>Street</th>\n",
       "      <th>LotShape</th>\n",
       "      <th>LandContour</th>\n",
       "      <th>Utilities</th>\n",
       "      <th>LotConfig</th>\n",
       "      <th>...</th>\n",
       "      <th>EnclosedPorch</th>\n",
       "      <th>3SsnPorch</th>\n",
       "      <th>ScreenPorch</th>\n",
       "      <th>PoolArea</th>\n",
       "      <th>MiscVal</th>\n",
       "      <th>MoSold</th>\n",
       "      <th>YrSold</th>\n",
       "      <th>SaleType</th>\n",
       "      <th>SaleCondition</th>\n",
       "      <th>SalePrice</th>\n",
       "    </tr>\n",
       "  </thead>\n",
       "  <tbody>\n",
       "    <tr>\n",
       "      <th>0</th>\n",
       "      <td>1</td>\n",
       "      <td>60</td>\n",
       "      <td>RL</td>\n",
       "      <td>65.0</td>\n",
       "      <td>8450</td>\n",
       "      <td>Pave</td>\n",
       "      <td>Reg</td>\n",
       "      <td>Lvl</td>\n",
       "      <td>AllPub</td>\n",
       "      <td>Inside</td>\n",
       "      <td>...</td>\n",
       "      <td>0</td>\n",
       "      <td>0</td>\n",
       "      <td>0</td>\n",
       "      <td>0</td>\n",
       "      <td>0</td>\n",
       "      <td>2</td>\n",
       "      <td>2008</td>\n",
       "      <td>WD</td>\n",
       "      <td>Normal</td>\n",
       "      <td>208500</td>\n",
       "    </tr>\n",
       "    <tr>\n",
       "      <th>1</th>\n",
       "      <td>2</td>\n",
       "      <td>20</td>\n",
       "      <td>RL</td>\n",
       "      <td>80.0</td>\n",
       "      <td>9600</td>\n",
       "      <td>Pave</td>\n",
       "      <td>Reg</td>\n",
       "      <td>Lvl</td>\n",
       "      <td>AllPub</td>\n",
       "      <td>FR2</td>\n",
       "      <td>...</td>\n",
       "      <td>0</td>\n",
       "      <td>0</td>\n",
       "      <td>0</td>\n",
       "      <td>0</td>\n",
       "      <td>0</td>\n",
       "      <td>5</td>\n",
       "      <td>2007</td>\n",
       "      <td>WD</td>\n",
       "      <td>Normal</td>\n",
       "      <td>181500</td>\n",
       "    </tr>\n",
       "    <tr>\n",
       "      <th>2</th>\n",
       "      <td>3</td>\n",
       "      <td>60</td>\n",
       "      <td>RL</td>\n",
       "      <td>68.0</td>\n",
       "      <td>11250</td>\n",
       "      <td>Pave</td>\n",
       "      <td>IR1</td>\n",
       "      <td>Lvl</td>\n",
       "      <td>AllPub</td>\n",
       "      <td>Inside</td>\n",
       "      <td>...</td>\n",
       "      <td>0</td>\n",
       "      <td>0</td>\n",
       "      <td>0</td>\n",
       "      <td>0</td>\n",
       "      <td>0</td>\n",
       "      <td>9</td>\n",
       "      <td>2008</td>\n",
       "      <td>WD</td>\n",
       "      <td>Normal</td>\n",
       "      <td>223500</td>\n",
       "    </tr>\n",
       "  </tbody>\n",
       "</table>\n",
       "<p>3 rows × 76 columns</p>\n",
       "</div>"
      ],
      "text/plain": [
       "   Id  MSSubClass MSZoning  LotFrontage  LotArea Street LotShape LandContour  \\\n",
       "0   1          60       RL         65.0     8450   Pave      Reg         Lvl   \n",
       "1   2          20       RL         80.0     9600   Pave      Reg         Lvl   \n",
       "2   3          60       RL         68.0    11250   Pave      IR1         Lvl   \n",
       "\n",
       "  Utilities LotConfig  ... EnclosedPorch 3SsnPorch ScreenPorch PoolArea  \\\n",
       "0    AllPub    Inside  ...             0         0           0        0   \n",
       "1    AllPub       FR2  ...             0         0           0        0   \n",
       "2    AllPub    Inside  ...             0         0           0        0   \n",
       "\n",
       "  MiscVal MoSold  YrSold  SaleType  SaleCondition  SalePrice  \n",
       "0       0      2    2008        WD         Normal     208500  \n",
       "1       0      5    2007        WD         Normal     181500  \n",
       "2       0      9    2008        WD         Normal     223500  \n",
       "\n",
       "[3 rows x 76 columns]"
      ]
     },
     "execution_count": 14,
     "metadata": {},
     "output_type": "execute_result"
    }
   ],
   "source": [
    "df.head(3)"
   ]
  },
  {
   "cell_type": "code",
   "execution_count": 15,
   "id": "83e05642",
   "metadata": {
    "execution": {
     "iopub.execute_input": "2025-10-25T15:03:51.557022Z",
     "iopub.status.busy": "2025-10-25T15:03:51.556726Z",
     "iopub.status.idle": "2025-10-25T15:03:51.562094Z",
     "shell.execute_reply": "2025-10-25T15:03:51.561271Z"
    },
    "papermill": {
     "duration": 0.017655,
     "end_time": "2025-10-25T15:03:51.563389",
     "exception": false,
     "start_time": "2025-10-25T15:03:51.545734",
     "status": "completed"
    },
    "tags": []
   },
   "outputs": [
    {
     "data": {
      "text/plain": [
       "(1460, 76)"
      ]
     },
     "execution_count": 15,
     "metadata": {},
     "output_type": "execute_result"
    }
   ],
   "source": [
    "df.shape"
   ]
  },
  {
   "cell_type": "code",
   "execution_count": 16,
   "id": "73c405c4",
   "metadata": {
    "execution": {
     "iopub.execute_input": "2025-10-25T15:03:51.585152Z",
     "iopub.status.busy": "2025-10-25T15:03:51.584541Z",
     "iopub.status.idle": "2025-10-25T15:03:52.274266Z",
     "shell.execute_reply": "2025-10-25T15:03:52.273222Z"
    },
    "papermill": {
     "duration": 0.702886,
     "end_time": "2025-10-25T15:03:52.276444",
     "exception": false,
     "start_time": "2025-10-25T15:03:51.573558",
     "status": "completed"
    },
    "tags": []
   },
   "outputs": [
    {
     "data": {
      "text/plain": [
       "<Axes: >"
      ]
     },
     "execution_count": 16,
     "metadata": {},
     "output_type": "execute_result"
    },
    {
     "data": {
      "image/png": "[encoded data removed]",
      "text/plain": [
       "<Figure size 640x480 with 2 Axes>"
      ]
     },
     "metadata": {},
     "output_type": "display_data"
    }
   ],
   "source": [
    "sns.heatmap(df.isnull())"
   ]
  },
  {
   "cell_type": "markdown",
   "id": "00f307bc",
   "metadata": {
    "papermill": {
     "duration": 0.012366,
     "end_time": "2025-10-25T15:03:52.304515",
     "exception": false,
     "start_time": "2025-10-25T15:03:52.292149",
     "status": "completed"
    },
    "tags": []
   },
   "source": [
    "* Now dataset has no null values"
   ]
  },
  {
   "cell_type": "code",
   "execution_count": 17,
   "id": "b36ecfeb",
   "metadata": {
    "execution": {
     "iopub.execute_input": "2025-10-25T15:03:52.333079Z",
     "iopub.status.busy": "2025-10-25T15:03:52.332783Z",
     "iopub.status.idle": "2025-10-25T15:03:52.340478Z",
     "shell.execute_reply": "2025-10-25T15:03:52.339560Z"
    },
    "papermill": {
     "duration": 0.022969,
     "end_time": "2025-10-25T15:03:52.342154",
     "exception": false,
     "start_time": "2025-10-25T15:03:52.319185",
     "status": "completed"
    },
    "tags": []
   },
   "outputs": [],
   "source": [
    "## Dropping ID column as well as it's not needed\n",
    "df.drop('Id', axis =1, inplace = True)"
   ]
  },
  {
   "cell_type": "code",
   "execution_count": 18,
   "id": "8f422cdc",
   "metadata": {
    "execution": {
     "iopub.execute_input": "2025-10-25T15:03:52.365983Z",
     "iopub.status.busy": "2025-10-25T15:03:52.365684Z",
     "iopub.status.idle": "2025-10-25T15:03:52.371188Z",
     "shell.execute_reply": "2025-10-25T15:03:52.370377Z"
    },
    "papermill": {
     "duration": 0.019122,
     "end_time": "2025-10-25T15:03:52.372654",
     "exception": false,
     "start_time": "2025-10-25T15:03:52.353532",
     "status": "completed"
    },
    "tags": []
   },
   "outputs": [
    {
     "data": {
      "text/plain": [
       "(1460, 75)"
      ]
     },
     "execution_count": 18,
     "metadata": {},
     "output_type": "execute_result"
    }
   ],
   "source": [
    "df.shape"
   ]
  },
  {
   "cell_type": "markdown",
   "id": "abe48fdf",
   "metadata": {
    "papermill": {
     "duration": 0.011209,
     "end_time": "2025-10-25T15:03:52.395799",
     "exception": false,
     "start_time": "2025-10-25T15:03:52.384590",
     "status": "completed"
    },
    "tags": []
   },
   "source": [
    "## Combining Test Data With Train Data"
   ]
  },
  {
   "cell_type": "code",
   "execution_count": 19,
   "id": "6a8ae4dd",
   "metadata": {
    "execution": {
     "iopub.execute_input": "2025-10-25T15:03:52.420162Z",
     "iopub.status.busy": "2025-10-25T15:03:52.419374Z",
     "iopub.status.idle": "2025-10-25T15:03:52.454665Z",
     "shell.execute_reply": "2025-10-25T15:03:52.453671Z"
    },
    "papermill": {
     "duration": 0.049038,
     "end_time": "2025-10-25T15:03:52.456200",
     "exception": false,
     "start_time": "2025-10-25T15:03:52.407162",
     "status": "completed"
    },
    "tags": []
   },
   "outputs": [
    {
     "data": {
      "text/plain": [
       "(1459, 74)"
      ]
     },
     "execution_count": 19,
     "metadata": {},
     "output_type": "execute_result"
    }
   ],
   "source": [
    "## Importing Cleaned Test Data file\n",
    "\n",
    "df_test = pd.read_csv('/kaggle/input/updatedtest/UpdatedTest.csv')\n",
    "df_test.shape"
   ]
  },
  {
   "cell_type": "code",
   "execution_count": 20,
   "id": "6c36d6c3",
   "metadata": {
    "execution": {
     "iopub.execute_input": "2025-10-25T15:03:52.488531Z",
     "iopub.status.busy": "2025-10-25T15:03:52.488143Z",
     "iopub.status.idle": "2025-10-25T15:03:52.498452Z",
     "shell.execute_reply": "2025-10-25T15:03:52.497376Z"
    },
    "papermill": {
     "duration": 0.025976,
     "end_time": "2025-10-25T15:03:52.500390",
     "exception": false,
     "start_time": "2025-10-25T15:03:52.474414",
     "status": "completed"
    },
    "tags": []
   },
   "outputs": [],
   "source": [
    "data = pd.concat([df, df_test], axis=0, ignore_index=True)"
   ]
  },
  {
   "cell_type": "code",
   "execution_count": 21,
   "id": "e19e7c6f",
   "metadata": {
    "execution": {
     "iopub.execute_input": "2025-10-25T15:03:52.528974Z",
     "iopub.status.busy": "2025-10-25T15:03:52.528635Z",
     "iopub.status.idle": "2025-10-25T15:03:52.533876Z",
     "shell.execute_reply": "2025-10-25T15:03:52.533206Z"
    },
    "papermill": {
     "duration": 0.018933,
     "end_time": "2025-10-25T15:03:52.535136",
     "exception": false,
     "start_time": "2025-10-25T15:03:52.516203",
     "status": "completed"
    },
    "tags": []
   },
   "outputs": [
    {
     "data": {
      "text/plain": [
       "(2919, 75)"
      ]
     },
     "execution_count": 21,
     "metadata": {},
     "output_type": "execute_result"
    }
   ],
   "source": [
    "data.shape"
   ]
  },
  {
   "cell_type": "code",
   "execution_count": 22,
   "id": "07ebad0e",
   "metadata": {
    "execution": {
     "iopub.execute_input": "2025-10-25T15:03:52.559720Z",
     "iopub.status.busy": "2025-10-25T15:03:52.558956Z",
     "iopub.status.idle": "2025-10-25T15:03:52.568173Z",
     "shell.execute_reply": "2025-10-25T15:03:52.567263Z"
    },
    "papermill": {
     "duration": 0.023235,
     "end_time": "2025-10-25T15:03:52.569755",
     "exception": false,
     "start_time": "2025-10-25T15:03:52.546520",
     "status": "completed"
    },
    "tags": []
   },
   "outputs": [],
   "source": [
    "full_data = data.copy()"
   ]
  },
  {
   "cell_type": "markdown",
   "id": "78f8c9e7",
   "metadata": {
    "papermill": {
     "duration": 0.011194,
     "end_time": "2025-10-25T15:03:52.592588",
     "exception": false,
     "start_time": "2025-10-25T15:03:52.581394",
     "status": "completed"
    },
    "tags": []
   },
   "source": [
    "## Feature Engineering"
   ]
  },
  {
   "cell_type": "markdown",
   "id": "c0d53ae7",
   "metadata": {
    "papermill": {
     "duration": 0.011458,
     "end_time": "2025-10-25T15:03:52.615786",
     "exception": false,
     "start_time": "2025-10-25T15:03:52.604328",
     "status": "completed"
    },
    "tags": []
   },
   "source": [
    "#### Handling Categorical features"
   ]
  },
  {
   "cell_type": "code",
   "execution_count": 23,
   "id": "d35882b2",
   "metadata": {
    "execution": {
     "iopub.execute_input": "2025-10-25T15:03:52.639741Z",
     "iopub.status.busy": "2025-10-25T15:03:52.639414Z",
     "iopub.status.idle": "2025-10-25T15:03:52.646523Z",
     "shell.execute_reply": "2025-10-25T15:03:52.645625Z"
    },
    "papermill": {
     "duration": 0.02077,
     "end_time": "2025-10-25T15:03:52.647815",
     "exception": false,
     "start_time": "2025-10-25T15:03:52.627045",
     "status": "completed"
    },
    "tags": []
   },
   "outputs": [
    {
     "name": "stdout",
     "output_type": "stream",
     "text": [
      "Index(['MSZoning', 'Street', 'LotShape', 'LandContour', 'Utilities',\n",
      "       'LotConfig', 'LandSlope', 'Neighborhood', 'Condition1', 'Condition2',\n",
      "       'BldgType', 'HouseStyle', 'RoofStyle', 'RoofMatl', 'Exterior1st',\n",
      "       'Exterior2nd', 'ExterQual', 'ExterCond', 'Foundation', 'BsmtQual',\n",
      "       'BsmtCond', 'BsmtExposure', 'BsmtFinType1', 'BsmtFinType2', 'Heating',\n",
      "       'HeatingQC', 'CentralAir', 'Electrical', 'KitchenQual', 'Functional',\n",
      "       'FireplaceQu', 'GarageType', 'GarageFinish', 'GarageQual', 'GarageCond',\n",
      "       'PavedDrive', 'SaleType', 'SaleCondition'],\n",
      "      dtype='object')\n"
     ]
    }
   ],
   "source": [
    "cat_features = full_data.select_dtypes(include=['object']).columns\n",
    "print(cat_features)\n"
   ]
  },
  {
   "cell_type": "code",
   "execution_count": 24,
   "id": "f993e186",
   "metadata": {
    "execution": {
     "iopub.execute_input": "2025-10-25T15:03:52.671813Z",
     "iopub.status.busy": "2025-10-25T15:03:52.671521Z",
     "iopub.status.idle": "2025-10-25T15:03:52.729299Z",
     "shell.execute_reply": "2025-10-25T15:03:52.728337Z"
    },
    "papermill": {
     "duration": 0.071477,
     "end_time": "2025-10-25T15:03:52.730718",
     "exception": false,
     "start_time": "2025-10-25T15:03:52.659241",
     "status": "completed"
    },
    "tags": []
   },
   "outputs": [
    {
     "data": {
      "text/html": [
       "<div>\n",
       "<style scoped>\n",
       "    .dataframe tbody tr th:only-of-type {\n",
       "        vertical-align: middle;\n",
       "    }\n",
       "\n",
       "    .dataframe tbody tr th {\n",
       "        vertical-align: top;\n",
       "    }\n",
       "\n",
       "    .dataframe thead th {\n",
       "        text-align: right;\n",
       "    }\n",
       "</style>\n",
       "<table border=\"1\" class=\"dataframe\">\n",
       "  <thead>\n",
       "    <tr style=\"text-align: right;\">\n",
       "      <th></th>\n",
       "      <th>MSSubClass</th>\n",
       "      <th>LotFrontage</th>\n",
       "      <th>LotArea</th>\n",
       "      <th>OverallQual</th>\n",
       "      <th>OverallCond</th>\n",
       "      <th>YearBuilt</th>\n",
       "      <th>YearRemodAdd</th>\n",
       "      <th>MasVnrArea</th>\n",
       "      <th>BsmtFinSF1</th>\n",
       "      <th>BsmtFinSF2</th>\n",
       "      <th>...</th>\n",
       "      <th>SaleType_ConLI</th>\n",
       "      <th>SaleType_ConLw</th>\n",
       "      <th>SaleType_New</th>\n",
       "      <th>SaleType_Oth</th>\n",
       "      <th>SaleType_WD</th>\n",
       "      <th>SaleCondition_AdjLand</th>\n",
       "      <th>SaleCondition_Alloca</th>\n",
       "      <th>SaleCondition_Family</th>\n",
       "      <th>SaleCondition_Normal</th>\n",
       "      <th>SaleCondition_Partial</th>\n",
       "    </tr>\n",
       "  </thead>\n",
       "  <tbody>\n",
       "    <tr>\n",
       "      <th>0</th>\n",
       "      <td>60</td>\n",
       "      <td>65.0</td>\n",
       "      <td>8450</td>\n",
       "      <td>7</td>\n",
       "      <td>5</td>\n",
       "      <td>2003</td>\n",
       "      <td>2003</td>\n",
       "      <td>196.0</td>\n",
       "      <td>706.0</td>\n",
       "      <td>0.0</td>\n",
       "      <td>...</td>\n",
       "      <td>0</td>\n",
       "      <td>0</td>\n",
       "      <td>0</td>\n",
       "      <td>0</td>\n",
       "      <td>1</td>\n",
       "      <td>0</td>\n",
       "      <td>0</td>\n",
       "      <td>0</td>\n",
       "      <td>1</td>\n",
       "      <td>0</td>\n",
       "    </tr>\n",
       "    <tr>\n",
       "      <th>1</th>\n",
       "      <td>20</td>\n",
       "      <td>80.0</td>\n",
       "      <td>9600</td>\n",
       "      <td>6</td>\n",
       "      <td>8</td>\n",
       "      <td>1976</td>\n",
       "      <td>1976</td>\n",
       "      <td>0.0</td>\n",
       "      <td>978.0</td>\n",
       "      <td>0.0</td>\n",
       "      <td>...</td>\n",
       "      <td>0</td>\n",
       "      <td>0</td>\n",
       "      <td>0</td>\n",
       "      <td>0</td>\n",
       "      <td>1</td>\n",
       "      <td>0</td>\n",
       "      <td>0</td>\n",
       "      <td>0</td>\n",
       "      <td>1</td>\n",
       "      <td>0</td>\n",
       "    </tr>\n",
       "    <tr>\n",
       "      <th>2</th>\n",
       "      <td>60</td>\n",
       "      <td>68.0</td>\n",
       "      <td>11250</td>\n",
       "      <td>7</td>\n",
       "      <td>5</td>\n",
       "      <td>2001</td>\n",
       "      <td>2002</td>\n",
       "      <td>162.0</td>\n",
       "      <td>486.0</td>\n",
       "      <td>0.0</td>\n",
       "      <td>...</td>\n",
       "      <td>0</td>\n",
       "      <td>0</td>\n",
       "      <td>0</td>\n",
       "      <td>0</td>\n",
       "      <td>1</td>\n",
       "      <td>0</td>\n",
       "      <td>0</td>\n",
       "      <td>0</td>\n",
       "      <td>1</td>\n",
       "      <td>0</td>\n",
       "    </tr>\n",
       "  </tbody>\n",
       "</table>\n",
       "<p>3 rows × 234 columns</p>\n",
       "</div>"
      ],
      "text/plain": [
       "   MSSubClass  LotFrontage  LotArea  OverallQual  OverallCond  YearBuilt  \\\n",
       "0          60         65.0     8450            7            5       2003   \n",
       "1          20         80.0     9600            6            8       1976   \n",
       "2          60         68.0    11250            7            5       2001   \n",
       "\n",
       "   YearRemodAdd  MasVnrArea  BsmtFinSF1  BsmtFinSF2  ...  SaleType_ConLI  \\\n",
       "0          2003       196.0       706.0         0.0  ...               0   \n",
       "1          1976         0.0       978.0         0.0  ...               0   \n",
       "2          2002       162.0       486.0         0.0  ...               0   \n",
       "\n",
       "   SaleType_ConLw  SaleType_New  SaleType_Oth  SaleType_WD  \\\n",
       "0               0             0             0            1   \n",
       "1               0             0             0            1   \n",
       "2               0             0             0            1   \n",
       "\n",
       "   SaleCondition_AdjLand  SaleCondition_Alloca  SaleCondition_Family  \\\n",
       "0                      0                     0                     0   \n",
       "1                      0                     0                     0   \n",
       "2                      0                     0                     0   \n",
       "\n",
       "   SaleCondition_Normal  SaleCondition_Partial  \n",
       "0                     1                      0  \n",
       "1                     1                      0  \n",
       "2                     1                      0  \n",
       "\n",
       "[3 rows x 234 columns]"
      ]
     },
     "execution_count": 24,
     "metadata": {},
     "output_type": "execute_result"
    }
   ],
   "source": [
    "full_data = pd.get_dummies(full_data, drop_first=True, dtype=int)\n",
    "full_data.head(3)"
   ]
  },
  {
   "cell_type": "code",
   "execution_count": 25,
   "id": "eef9690e",
   "metadata": {
    "execution": {
     "iopub.execute_input": "2025-10-25T15:03:52.756210Z",
     "iopub.status.busy": "2025-10-25T15:03:52.755875Z",
     "iopub.status.idle": "2025-10-25T15:03:52.992222Z",
     "shell.execute_reply": "2025-10-25T15:03:52.991337Z"
    },
    "papermill": {
     "duration": 0.250784,
     "end_time": "2025-10-25T15:03:52.993711",
     "exception": false,
     "start_time": "2025-10-25T15:03:52.742927",
     "status": "completed"
    },
    "tags": []
   },
   "outputs": [
    {
     "data": {
      "text/plain": [
       "0"
      ]
     },
     "execution_count": 25,
     "metadata": {},
     "output_type": "execute_result"
    }
   ],
   "source": [
    "duplicates  = full_data.T.duplicated()\n",
    "duplicates.sum()"
   ]
  },
  {
   "cell_type": "markdown",
   "id": "1dbdec8d",
   "metadata": {
    "papermill": {
     "duration": 0.011537,
     "end_time": "2025-10-25T15:03:53.017346",
     "exception": false,
     "start_time": "2025-10-25T15:03:53.005809",
     "status": "completed"
    },
    "tags": []
   },
   "source": [
    "* No duplicate column was found"
   ]
  },
  {
   "cell_type": "markdown",
   "id": "a596cbf9",
   "metadata": {
    "papermill": {
     "duration": 0.011498,
     "end_time": "2025-10-25T15:03:53.040518",
     "exception": false,
     "start_time": "2025-10-25T15:03:53.029020",
     "status": "completed"
    },
    "tags": []
   },
   "source": [
    "## Split the dataset in training and test"
   ]
  },
  {
   "cell_type": "markdown",
   "id": "6245406d",
   "metadata": {
    "papermill": {
     "duration": 0.012151,
     "end_time": "2025-10-25T15:03:53.064570",
     "exception": false,
     "start_time": "2025-10-25T15:03:53.052419",
     "status": "completed"
    },
    "tags": []
   },
   "source": [
    "* Already knows the number of rows that was there in the training dataset so based on the rows will split"
   ]
  },
  {
   "cell_type": "code",
   "execution_count": 26,
   "id": "d381489d",
   "metadata": {
    "execution": {
     "iopub.execute_input": "2025-10-25T15:03:53.089648Z",
     "iopub.status.busy": "2025-10-25T15:03:53.088720Z",
     "iopub.status.idle": "2025-10-25T15:03:53.093583Z",
     "shell.execute_reply": "2025-10-25T15:03:53.092772Z"
    },
    "papermill": {
     "duration": 0.018758,
     "end_time": "2025-10-25T15:03:53.094882",
     "exception": false,
     "start_time": "2025-10-25T15:03:53.076124",
     "status": "completed"
    },
    "tags": []
   },
   "outputs": [],
   "source": [
    "#Split back to train and test dataset\n",
    "train_data = full_data.iloc[:1460,:]\n",
    "test_data = full_data.iloc[1460:,:]"
   ]
  },
  {
   "cell_type": "code",
   "execution_count": 27,
   "id": "de3afc66",
   "metadata": {
    "execution": {
     "iopub.execute_input": "2025-10-25T15:03:53.119767Z",
     "iopub.status.busy": "2025-10-25T15:03:53.119457Z",
     "iopub.status.idle": "2025-10-25T15:03:53.125224Z",
     "shell.execute_reply": "2025-10-25T15:03:53.124482Z"
    },
    "papermill": {
     "duration": 0.019976,
     "end_time": "2025-10-25T15:03:53.126709",
     "exception": false,
     "start_time": "2025-10-25T15:03:53.106733",
     "status": "completed"
    },
    "tags": []
   },
   "outputs": [
    {
     "data": {
      "text/plain": [
       "1459"
      ]
     },
     "execution_count": 27,
     "metadata": {},
     "output_type": "execute_result"
    }
   ],
   "source": [
    "test_data['SalePrice'].isnull().sum()"
   ]
  },
  {
   "cell_type": "code",
   "execution_count": 28,
   "id": "d0e8febf",
   "metadata": {
    "execution": {
     "iopub.execute_input": "2025-10-25T15:03:53.151783Z",
     "iopub.status.busy": "2025-10-25T15:03:53.151006Z",
     "iopub.status.idle": "2025-10-25T15:03:53.157957Z",
     "shell.execute_reply": "2025-10-25T15:03:53.157077Z"
    },
    "papermill": {
     "duration": 0.021067,
     "end_time": "2025-10-25T15:03:53.159496",
     "exception": false,
     "start_time": "2025-10-25T15:03:53.138429",
     "status": "completed"
    },
    "tags": []
   },
   "outputs": [],
   "source": [
    "#Droping the Sales Price column from test_data as it has only null values\n",
    "test_data = test_data.drop(['SalePrice'], axis = 1)"
   ]
  },
  {
   "cell_type": "code",
   "execution_count": 29,
   "id": "8a0b3c7b",
   "metadata": {
    "execution": {
     "iopub.execute_input": "2025-10-25T15:03:53.185546Z",
     "iopub.status.busy": "2025-10-25T15:03:53.185208Z",
     "iopub.status.idle": "2025-10-25T15:03:53.190833Z",
     "shell.execute_reply": "2025-10-25T15:03:53.189741Z"
    },
    "papermill": {
     "duration": 0.02025,
     "end_time": "2025-10-25T15:03:53.192260",
     "exception": false,
     "start_time": "2025-10-25T15:03:53.172010",
     "status": "completed"
    },
    "tags": []
   },
   "outputs": [
    {
     "data": {
      "text/plain": [
       "(1459, 233)"
      ]
     },
     "execution_count": 29,
     "metadata": {},
     "output_type": "execute_result"
    }
   ],
   "source": [
    "test_data.shape"
   ]
  },
  {
   "cell_type": "code",
   "execution_count": 30,
   "id": "d322b3fa",
   "metadata": {
    "execution": {
     "iopub.execute_input": "2025-10-25T15:03:53.217845Z",
     "iopub.status.busy": "2025-10-25T15:03:53.217548Z",
     "iopub.status.idle": "2025-10-25T15:03:53.224555Z",
     "shell.execute_reply": "2025-10-25T15:03:53.223552Z"
    },
    "papermill": {
     "duration": 0.021985,
     "end_time": "2025-10-25T15:03:53.226157",
     "exception": false,
     "start_time": "2025-10-25T15:03:53.204172",
     "status": "completed"
    },
    "tags": []
   },
   "outputs": [],
   "source": [
    "x_train = train_data.drop(['SalePrice'], axis = 1)\n",
    "y_train = train_data['SalePrice']"
   ]
  },
  {
   "cell_type": "markdown",
   "id": "12a6fb15",
   "metadata": {
    "papermill": {
     "duration": 0.011631,
     "end_time": "2025-10-25T15:03:53.249733",
     "exception": false,
     "start_time": "2025-10-25T15:03:53.238102",
     "status": "completed"
    },
    "tags": []
   },
   "source": [
    "## Apply XGBoostRegressor Algorithm"
   ]
  },
  {
   "cell_type": "code",
   "execution_count": 31,
   "id": "4351fd65",
   "metadata": {
    "execution": {
     "iopub.execute_input": "2025-10-25T15:03:53.274895Z",
     "iopub.status.busy": "2025-10-25T15:03:53.274334Z",
     "iopub.status.idle": "2025-10-25T15:03:59.811226Z",
     "shell.execute_reply": "2025-10-25T15:03:59.810186Z"
    },
    "papermill": {
     "duration": 6.551474,
     "end_time": "2025-10-25T15:03:59.813041",
     "exception": false,
     "start_time": "2025-10-25T15:03:53.261567",
     "status": "completed"
    },
    "tags": []
   },
   "outputs": [
    {
     "name": "stdout",
     "output_type": "stream",
     "text": [
      "Requirement already satisfied: xgboost in /usr/local/lib/python3.11/dist-packages (2.0.3)\r\n",
      "Requirement already satisfied: numpy in /usr/local/lib/python3.11/dist-packages (from xgboost) (1.26.4)\r\n",
      "Requirement already satisfied: scipy in /usr/local/lib/python3.11/dist-packages (from xgboost) (1.15.3)\r\n",
      "Requirement already satisfied: mkl_fft in /usr/local/lib/python3.11/dist-packages (from numpy->xgboost) (1.3.8)\r\n",
      "Requirement already satisfied: mkl_random in /usr/local/lib/python3.11/dist-packages (from numpy->xgboost) (1.2.4)\r\n",
      "Requirement already satisfied: mkl_umath in /usr/local/lib/python3.11/dist-packages (from numpy->xgboost) (0.1.1)\r\n",
      "Requirement already satisfied: mkl in /usr/local/lib/python3.11/dist-packages (from numpy->xgboost) (2025.2.0)\r\n",
      "Requirement already satisfied: tbb4py in /usr/local/lib/python3.11/dist-packages (from numpy->xgboost) (2022.2.0)\r\n",
      "Requirement already satisfied: mkl-service in /usr/local/lib/python3.11/dist-packages (from numpy->xgboost) (2.4.1)\r\n",
      "Requirement already satisfied: intel-openmp<2026,>=2024 in /usr/local/lib/python3.11/dist-packages (from mkl->numpy->xgboost) (2024.2.0)\r\n",
      "Requirement already satisfied: tbb==2022.* in /usr/local/lib/python3.11/dist-packages (from mkl->numpy->xgboost) (2022.2.0)\r\n",
      "Requirement already satisfied: tcmlib==1.* in /usr/local/lib/python3.11/dist-packages (from tbb==2022.*->mkl->numpy->xgboost) (1.4.0)\r\n",
      "Requirement already satisfied: intel-cmplr-lib-rt in /usr/local/lib/python3.11/dist-packages (from mkl_umath->numpy->xgboost) (2024.2.0)\r\n",
      "Requirement already satisfied: intel-cmplr-lib-ur==2024.2.0 in /usr/local/lib/python3.11/dist-packages (from intel-openmp<2026,>=2024->mkl->numpy->xgboost) (2024.2.0)\r\n"
     ]
    },
    {
     "data": {
      "text/html": [
       "<style>#sk-container-id-1 {color: black;background-color: white;}#sk-container-id-1 pre{padding: 0;}#sk-container-id-1 div.sk-toggleable {background-color: white;}#sk-container-id-1 label.sk-toggleable__label {cursor: pointer;display: block;width: 100%;margin-bottom: 0;padding: 0.3em;box-sizing: border-box;text-align: center;}#sk-container-id-1 label.sk-toggleable__label-arrow:before {content: \"▸\";float: left;margin-right: 0.25em;color: #696969;}#sk-container-id-1 label.sk-toggleable__label-arrow:hover:before {color: black;}#sk-container-id-1 div.sk-estimator:hover label.sk-toggleable__label-arrow:before {color: black;}#sk-container-id-1 div.sk-toggleable__content {max-height: 0;max-width: 0;overflow: hidden;text-align: left;background-color: #f0f8ff;}#sk-container-id-1 div.sk-toggleable__content pre {margin: 0.2em;color: black;border-radius: 0.25em;background-color: #f0f8ff;}#sk-container-id-1 input.sk-toggleable__control:checked~div.sk-toggleable__content {max-height: 200px;max-width: 100%;overflow: auto;}#sk-container-id-1 input.sk-toggleable__control:checked~label.sk-toggleable__label-arrow:before {content: \"▾\";}#sk-container-id-1 div.sk-estimator input.sk-toggleable__control:checked~label.sk-toggleable__label {background-color: #d4ebff;}#sk-container-id-1 div.sk-label input.sk-toggleable__control:checked~label.sk-toggleable__label {background-color: #d4ebff;}#sk-container-id-1 input.sk-hidden--visually {border: 0;clip: rect(1px 1px 1px 1px);clip: rect(1px, 1px, 1px, 1px);height: 1px;margin: -1px;overflow: hidden;padding: 0;position: absolute;width: 1px;}#sk-container-id-1 div.sk-estimator {font-family: monospace;background-color: #f0f8ff;border: 1px dotted black;border-radius: 0.25em;box-sizing: border-box;margin-bottom: 0.5em;}#sk-container-id-1 div.sk-estimator:hover {background-color: #d4ebff;}#sk-container-id-1 div.sk-parallel-item::after {content: \"\";width: 100%;border-bottom: 1px solid gray;flex-grow: 1;}#sk-container-id-1 div.sk-label:hover label.sk-toggleable__label {background-color: #d4ebff;}#sk-container-id-1 div.sk-serial::before {content: \"\";position: absolute;border-left: 1px solid gray;box-sizing: border-box;top: 0;bottom: 0;left: 50%;z-index: 0;}#sk-container-id-1 div.sk-serial {display: flex;flex-direction: column;align-items: center;background-color: white;padding-right: 0.2em;padding-left: 0.2em;position: relative;}#sk-container-id-1 div.sk-item {position: relative;z-index: 1;}#sk-container-id-1 div.sk-parallel {display: flex;align-items: stretch;justify-content: center;background-color: white;position: relative;}#sk-container-id-1 div.sk-item::before, #sk-container-id-1 div.sk-parallel-item::before {content: \"\";position: absolute;border-left: 1px solid gray;box-sizing: border-box;top: 0;bottom: 0;left: 50%;z-index: -1;}#sk-container-id-1 div.sk-parallel-item {display: flex;flex-direction: column;z-index: 1;position: relative;background-color: white;}#sk-container-id-1 div.sk-parallel-item:first-child::after {align-self: flex-end;width: 50%;}#sk-container-id-1 div.sk-parallel-item:last-child::after {align-self: flex-start;width: 50%;}#sk-container-id-1 div.sk-parallel-item:only-child::after {width: 0;}#sk-container-id-1 div.sk-dashed-wrapped {border: 1px dashed gray;margin: 0 0.4em 0.5em 0.4em;box-sizing: border-box;padding-bottom: 0.4em;background-color: white;}#sk-container-id-1 div.sk-label label {font-family: monospace;font-weight: bold;display: inline-block;line-height: 1.2em;}#sk-container-id-1 div.sk-label-container {text-align: center;}#sk-container-id-1 div.sk-container {/* jupyter's `normalize.less` sets `[hidden] { display: none; }` but bootstrap.min.css set `[hidden] { display: none !important; }` so we also need the `!important` here to be able to override the default hidden behavior on the sphinx rendered scikit-learn.org. See: https://github.com/scikit-learn/scikit-learn/issues/21755 */display: inline-block !important;position: relative;}#sk-container-id-1 div.sk-text-repr-fallback {display: none;}</style><div id=\"sk-container-id-1\" class=\"sk-top-container\"><div class=\"sk-text-repr-fallback\"><pre>XGBRegressor(base_score=None, booster=None, callbacks=None,\n",
       "             colsample_bylevel=None, colsample_bynode=None,\n",
       "             colsample_bytree=None, device=None, early_stopping_rounds=None,\n",
       "             enable_categorical=False, eval_metric=None, feature_types=None,\n",
       "             gamma=None, grow_policy=None, importance_type=None,\n",
       "             interaction_constraints=None, learning_rate=None, max_bin=None,\n",
       "             max_cat_threshold=None, max_cat_to_onehot=None,\n",
       "             max_delta_step=None, max_depth=None, max_leaves=None,\n",
       "             min_child_weight=None, missing=nan, monotone_constraints=None,\n",
       "             multi_strategy=None, n_estimators=None, n_jobs=None,\n",
       "             num_parallel_tree=None, random_state=None, ...)</pre><b>In a Jupyter environment, please rerun this cell to show the HTML representation or trust the notebook. <br />On GitHub, the HTML representation is unable to render, please try loading this page with nbviewer.org.</b></div><div class=\"sk-container\" hidden><div class=\"sk-item\"><div class=\"sk-estimator sk-toggleable\"><input class=\"sk-toggleable__control sk-hidden--visually\" id=\"sk-estimator-id-1\" type=\"checkbox\" checked><label for=\"sk-estimator-id-1\" class=\"sk-toggleable__label sk-toggleable__label-arrow\">XGBRegressor</label><div class=\"sk-toggleable__content\"><pre>XGBRegressor(base_score=None, booster=None, callbacks=None,\n",
       "             colsample_bylevel=None, colsample_bynode=None,\n",
       "             colsample_bytree=None, device=None, early_stopping_rounds=None,\n",
       "             enable_categorical=False, eval_metric=None, feature_types=None,\n",
       "             gamma=None, grow_policy=None, importance_type=None,\n",
       "             interaction_constraints=None, learning_rate=None, max_bin=None,\n",
       "             max_cat_threshold=None, max_cat_to_onehot=None,\n",
       "             max_delta_step=None, max_depth=None, max_leaves=None,\n",
       "             min_child_weight=None, missing=nan, monotone_constraints=None,\n",
       "             multi_strategy=None, n_estimators=None, n_jobs=None,\n",
       "             num_parallel_tree=None, random_state=None, ...)</pre></div></div></div></div></div>"
      ],
      "text/plain": [
       "XGBRegressor(base_score=None, booster=None, callbacks=None,\n",
       "             colsample_bylevel=None, colsample_bynode=None,\n",
       "             colsample_bytree=None, device=None, early_stopping_rounds=None,\n",
       "             enable_categorical=False, eval_metric=None, feature_types=None,\n",
       "             gamma=None, grow_policy=None, importance_type=None,\n",
       "             interaction_constraints=None, learning_rate=None, max_bin=None,\n",
       "             max_cat_threshold=None, max_cat_to_onehot=None,\n",
       "             max_delta_step=None, max_depth=None, max_leaves=None,\n",
       "             min_child_weight=None, missing=nan, monotone_constraints=None,\n",
       "             multi_strategy=None, n_estimators=None, n_jobs=None,\n",
       "             num_parallel_tree=None, random_state=None, ...)"
      ]
     },
     "execution_count": 31,
     "metadata": {},
     "output_type": "execute_result"
    }
   ],
   "source": [
    "!pip install xgboost\n",
    "import xgboost as xgb\n",
    "\n",
    "xgb_model = xgb.XGBRegressor()\n",
    "xgb_model.fit(x_train,y_train)"
   ]
  },
  {
   "cell_type": "code",
   "execution_count": 32,
   "id": "226eb6f2",
   "metadata": {
    "execution": {
     "iopub.execute_input": "2025-10-25T15:03:59.839857Z",
     "iopub.status.busy": "2025-10-25T15:03:59.839506Z",
     "iopub.status.idle": "2025-10-25T15:03:59.872606Z",
     "shell.execute_reply": "2025-10-25T15:03:59.870937Z"
    },
    "papermill": {
     "duration": 0.048212,
     "end_time": "2025-10-25T15:03:59.874075",
     "exception": false,
     "start_time": "2025-10-25T15:03:59.825863",
     "status": "completed"
    },
    "tags": []
   },
   "outputs": [
    {
     "data": {
      "text/plain": [
       "array([126716.3  , 159652.72 , 192800.67 , ..., 161463.14 , 114533.664,\n",
       "       204581.36 ], dtype=float32)"
      ]
     },
     "execution_count": 32,
     "metadata": {},
     "output_type": "execute_result"
    }
   ],
   "source": [
    "y_pred = xgb_model.predict(test_data)\n",
    "y_pred"
   ]
  },
  {
   "cell_type": "code",
   "execution_count": 33,
   "id": "ffcec029",
   "metadata": {
    "execution": {
     "iopub.execute_input": "2025-10-25T15:03:59.901352Z",
     "iopub.status.busy": "2025-10-25T15:03:59.900711Z",
     "iopub.status.idle": "2025-10-25T15:03:59.921767Z",
     "shell.execute_reply": "2025-10-25T15:03:59.920946Z"
    },
    "papermill": {
     "duration": 0.036384,
     "end_time": "2025-10-25T15:03:59.923477",
     "exception": false,
     "start_time": "2025-10-25T15:03:59.887093",
     "status": "completed"
    },
    "tags": []
   },
   "outputs": [],
   "source": [
    "pred = pd.DataFrame(y_pred)\n",
    "sub_df = pd.read_csv('/kaggle/input/house-prices-advanced-regression-techniques/sample_submission.csv')\n",
    "dataset = pd.concat([sub_df['Id'],pred], axis = 1)\n",
    "dataset.columns = ['Id', 'SalePrice']\n",
    "dataset.to_csv('submission.csv', index=False)"
   ]
  },
  {
   "cell_type": "markdown",
   "id": "a14dbfa6",
   "metadata": {
    "papermill": {
     "duration": 0.012453,
     "end_time": "2025-10-25T15:03:59.949047",
     "exception": false,
     "start_time": "2025-10-25T15:03:59.936594",
     "status": "completed"
    },
    "tags": []
   },
   "source": [
    "## Evaluate the model"
   ]
  },
  {
   "cell_type": "code",
   "execution_count": 34,
   "id": "6766f3d5",
   "metadata": {
    "execution": {
     "iopub.execute_input": "2025-10-25T15:03:59.976017Z",
     "iopub.status.busy": "2025-10-25T15:03:59.975687Z",
     "iopub.status.idle": "2025-10-25T15:03:59.982082Z",
     "shell.execute_reply": "2025-10-25T15:03:59.981239Z"
    },
    "papermill": {
     "duration": 0.021269,
     "end_time": "2025-10-25T15:03:59.983449",
     "exception": false,
     "start_time": "2025-10-25T15:03:59.962180",
     "status": "completed"
    },
    "tags": []
   },
   "outputs": [
    {
     "name": "stdout",
     "output_type": "stream",
     "text": [
      "74025.06213336266\n"
     ]
    }
   ],
   "source": [
    "from sklearn.metrics import mean_squared_error\n",
    "\n",
    "rmse = np.sqrt(mean_squared_error(sub_df['SalePrice'],pred[0]))\n",
    "print(rmse)"
   ]
  },
  {
   "cell_type": "markdown",
   "id": "d7b19469",
   "metadata": {
    "papermill": {
     "duration": 0.012092,
     "end_time": "2025-10-25T15:04:00.008016",
     "exception": false,
     "start_time": "2025-10-25T15:03:59.995924",
     "status": "completed"
    },
    "tags": []
   },
   "source": [
    "## Hyperparameter Tuning\n",
    "Will use XGBoost with hyperparameter to get better accuracy in prediction"
   ]
  },
  {
   "cell_type": "code",
   "execution_count": 35,
   "id": "d9104f34",
   "metadata": {
    "execution": {
     "iopub.execute_input": "2025-10-25T15:04:00.034092Z",
     "iopub.status.busy": "2025-10-25T15:04:00.033777Z",
     "iopub.status.idle": "2025-10-25T15:04:00.037932Z",
     "shell.execute_reply": "2025-10-25T15:04:00.037061Z"
    },
    "papermill": {
     "duration": 0.018975,
     "end_time": "2025-10-25T15:04:00.039379",
     "exception": false,
     "start_time": "2025-10-25T15:04:00.020404",
     "status": "completed"
    },
    "tags": []
   },
   "outputs": [],
   "source": [
    "from sklearn.model_selection import RandomizedSearchCV\n",
    "import xgboost as xgb\n",
    "import numpy as np\n"
   ]
  },
  {
   "cell_type": "code",
   "execution_count": 36,
   "id": "3d6b2b1c",
   "metadata": {
    "execution": {
     "iopub.execute_input": "2025-10-25T15:04:00.065891Z",
     "iopub.status.busy": "2025-10-25T15:04:00.065564Z",
     "iopub.status.idle": "2025-10-25T15:04:00.072982Z",
     "shell.execute_reply": "2025-10-25T15:04:00.072197Z"
    },
    "papermill": {
     "duration": 0.022455,
     "end_time": "2025-10-25T15:04:00.074530",
     "exception": false,
     "start_time": "2025-10-25T15:04:00.052075",
     "status": "completed"
    },
    "tags": []
   },
   "outputs": [],
   "source": [
    "y_train_log = np.log1p(y_train)"
   ]
  },
  {
   "cell_type": "code",
   "execution_count": 37,
   "id": "96f806f1",
   "metadata": {
    "execution": {
     "iopub.execute_input": "2025-10-25T15:04:00.101517Z",
     "iopub.status.busy": "2025-10-25T15:04:00.101199Z",
     "iopub.status.idle": "2025-10-25T15:04:00.106150Z",
     "shell.execute_reply": "2025-10-25T15:04:00.105362Z"
    },
    "papermill": {
     "duration": 0.020408,
     "end_time": "2025-10-25T15:04:00.107621",
     "exception": false,
     "start_time": "2025-10-25T15:04:00.087213",
     "status": "completed"
    },
    "tags": []
   },
   "outputs": [],
   "source": [
    "# Defining Parameter Grid\n",
    "\n",
    "param_grid = {\n",
    "    \"n_estimators\": [500, 1000, 2000, 5000],\n",
    "    \"learning_rate\": [0.01, 0.05, 0.1],\n",
    "    \"max_depth\": [2, 3, 4, 5],\n",
    "    \"subsample\": [0.6, 0.8, 1.0],\n",
    "    \"colsample_bytree\": [0.6, 0.8, 1.0],\n",
    "    \"reg_alpha\": [0, 0.01, 0.1, 1],   # L1 regularization\n",
    "    \"reg_lambda\": [1, 1.5, 2]         # L2 regularization\n",
    "}\n"
   ]
  },
  {
   "cell_type": "code",
   "execution_count": 38,
   "id": "15280396",
   "metadata": {
    "execution": {
     "iopub.execute_input": "2025-10-25T15:04:00.134364Z",
     "iopub.status.busy": "2025-10-25T15:04:00.134009Z",
     "iopub.status.idle": "2025-10-25T15:06:50.142556Z",
     "shell.execute_reply": "2025-10-25T15:06:50.141652Z"
    },
    "papermill": {
     "duration": 170.035775,
     "end_time": "2025-10-25T15:06:50.156184",
     "exception": false,
     "start_time": "2025-10-25T15:04:00.120409",
     "status": "completed"
    },
    "tags": []
   },
   "outputs": [
    {
     "name": "stdout",
     "output_type": "stream",
     "text": [
      "Fitting 5 folds for each of 20 candidates, totalling 100 fits\n"
     ]
    },
    {
     "data": {
      "text/html": [
       "<style>#sk-container-id-2 {color: black;background-color: white;}#sk-container-id-2 pre{padding: 0;}#sk-container-id-2 div.sk-toggleable {background-color: white;}#sk-container-id-2 label.sk-toggleable__label {cursor: pointer;display: block;width: 100%;margin-bottom: 0;padding: 0.3em;box-sizing: border-box;text-align: center;}#sk-container-id-2 label.sk-toggleable__label-arrow:before {content: \"▸\";float: left;margin-right: 0.25em;color: #696969;}#sk-container-id-2 label.sk-toggleable__label-arrow:hover:before {color: black;}#sk-container-id-2 div.sk-estimator:hover label.sk-toggleable__label-arrow:before {color: black;}#sk-container-id-2 div.sk-toggleable__content {max-height: 0;max-width: 0;overflow: hidden;text-align: left;background-color: #f0f8ff;}#sk-container-id-2 div.sk-toggleable__content pre {margin: 0.2em;color: black;border-radius: 0.25em;background-color: #f0f8ff;}#sk-container-id-2 input.sk-toggleable__control:checked~div.sk-toggleable__content {max-height: 200px;max-width: 100%;overflow: auto;}#sk-container-id-2 input.sk-toggleable__control:checked~label.sk-toggleable__label-arrow:before {content: \"▾\";}#sk-container-id-2 div.sk-estimator input.sk-toggleable__control:checked~label.sk-toggleable__label {background-color: #d4ebff;}#sk-container-id-2 div.sk-label input.sk-toggleable__control:checked~label.sk-toggleable__label {background-color: #d4ebff;}#sk-container-id-2 input.sk-hidden--visually {border: 0;clip: rect(1px 1px 1px 1px);clip: rect(1px, 1px, 1px, 1px);height: 1px;margin: -1px;overflow: hidden;padding: 0;position: absolute;width: 1px;}#sk-container-id-2 div.sk-estimator {font-family: monospace;background-color: #f0f8ff;border: 1px dotted black;border-radius: 0.25em;box-sizing: border-box;margin-bottom: 0.5em;}#sk-container-id-2 div.sk-estimator:hover {background-color: #d4ebff;}#sk-container-id-2 div.sk-parallel-item::after {content: \"\";width: 100%;border-bottom: 1px solid gray;flex-grow: 1;}#sk-container-id-2 div.sk-label:hover label.sk-toggleable__label {background-color: #d4ebff;}#sk-container-id-2 div.sk-serial::before {content: \"\";position: absolute;border-left: 1px solid gray;box-sizing: border-box;top: 0;bottom: 0;left: 50%;z-index: 0;}#sk-container-id-2 div.sk-serial {display: flex;flex-direction: column;align-items: center;background-color: white;padding-right: 0.2em;padding-left: 0.2em;position: relative;}#sk-container-id-2 div.sk-item {position: relative;z-index: 1;}#sk-container-id-2 div.sk-parallel {display: flex;align-items: stretch;justify-content: center;background-color: white;position: relative;}#sk-container-id-2 div.sk-item::before, #sk-container-id-2 div.sk-parallel-item::before {content: \"\";position: absolute;border-left: 1px solid gray;box-sizing: border-box;top: 0;bottom: 0;left: 50%;z-index: -1;}#sk-container-id-2 div.sk-parallel-item {display: flex;flex-direction: column;z-index: 1;position: relative;background-color: white;}#sk-container-id-2 div.sk-parallel-item:first-child::after {align-self: flex-end;width: 50%;}#sk-container-id-2 div.sk-parallel-item:last-child::after {align-self: flex-start;width: 50%;}#sk-container-id-2 div.sk-parallel-item:only-child::after {width: 0;}#sk-container-id-2 div.sk-dashed-wrapped {border: 1px dashed gray;margin: 0 0.4em 0.5em 0.4em;box-sizing: border-box;padding-bottom: 0.4em;background-color: white;}#sk-container-id-2 div.sk-label label {font-family: monospace;font-weight: bold;display: inline-block;line-height: 1.2em;}#sk-container-id-2 div.sk-label-container {text-align: center;}#sk-container-id-2 div.sk-container {/* jupyter's `normalize.less` sets `[hidden] { display: none; }` but bootstrap.min.css set `[hidden] { display: none !important; }` so we also need the `!important` here to be able to override the default hidden behavior on the sphinx rendered scikit-learn.org. See: https://github.com/scikit-learn/scikit-learn/issues/21755 */display: inline-block !important;position: relative;}#sk-container-id-2 div.sk-text-repr-fallback {display: none;}</style><div id=\"sk-container-id-2\" class=\"sk-top-container\"><div class=\"sk-text-repr-fallback\"><pre>RandomizedSearchCV(cv=5,\n",
       "                   estimator=XGBRegressor(base_score=None, booster=None,\n",
       "                                          callbacks=None,\n",
       "                                          colsample_bylevel=None,\n",
       "                                          colsample_bynode=None,\n",
       "                                          colsample_bytree=None, device=None,\n",
       "                                          early_stopping_rounds=None,\n",
       "                                          enable_categorical=False,\n",
       "                                          eval_metric=None, feature_types=None,\n",
       "                                          gamma=None, grow_policy=None,\n",
       "                                          importance_type=None,\n",
       "                                          interaction_constraints=None,\n",
       "                                          learning_rate=...\n",
       "                                          n_estimators=None, n_jobs=None,\n",
       "                                          num_parallel_tree=None,\n",
       "                                          random_state=42, ...),\n",
       "                   n_iter=20, n_jobs=-1,\n",
       "                   param_distributions={&#x27;colsample_bytree&#x27;: [0.6, 0.8, 1.0],\n",
       "                                        &#x27;learning_rate&#x27;: [0.01, 0.05, 0.1],\n",
       "                                        &#x27;max_depth&#x27;: [2, 3, 4, 5],\n",
       "                                        &#x27;n_estimators&#x27;: [500, 1000, 2000, 5000],\n",
       "                                        &#x27;reg_alpha&#x27;: [0, 0.01, 0.1, 1],\n",
       "                                        &#x27;reg_lambda&#x27;: [1, 1.5, 2],\n",
       "                                        &#x27;subsample&#x27;: [0.6, 0.8, 1.0]},\n",
       "                   scoring=&#x27;neg_root_mean_squared_error&#x27;, verbose=2)</pre><b>In a Jupyter environment, please rerun this cell to show the HTML representation or trust the notebook. <br />On GitHub, the HTML representation is unable to render, please try loading this page with nbviewer.org.</b></div><div class=\"sk-container\" hidden><div class=\"sk-item sk-dashed-wrapped\"><div class=\"sk-label-container\"><div class=\"sk-label sk-toggleable\"><input class=\"sk-toggleable__control sk-hidden--visually\" id=\"sk-estimator-id-2\" type=\"checkbox\" ><label for=\"sk-estimator-id-2\" class=\"sk-toggleable__label sk-toggleable__label-arrow\">RandomizedSearchCV</label><div class=\"sk-toggleable__content\"><pre>RandomizedSearchCV(cv=5,\n",
       "                   estimator=XGBRegressor(base_score=None, booster=None,\n",
       "                                          callbacks=None,\n",
       "                                          colsample_bylevel=None,\n",
       "                                          colsample_bynode=None,\n",
       "                                          colsample_bytree=None, device=None,\n",
       "                                          early_stopping_rounds=None,\n",
       "                                          enable_categorical=False,\n",
       "                                          eval_metric=None, feature_types=None,\n",
       "                                          gamma=None, grow_policy=None,\n",
       "                                          importance_type=None,\n",
       "                                          interaction_constraints=None,\n",
       "                                          learning_rate=...\n",
       "                                          n_estimators=None, n_jobs=None,\n",
       "                                          num_parallel_tree=None,\n",
       "                                          random_state=42, ...),\n",
       "                   n_iter=20, n_jobs=-1,\n",
       "                   param_distributions={&#x27;colsample_bytree&#x27;: [0.6, 0.8, 1.0],\n",
       "                                        &#x27;learning_rate&#x27;: [0.01, 0.05, 0.1],\n",
       "                                        &#x27;max_depth&#x27;: [2, 3, 4, 5],\n",
       "                                        &#x27;n_estimators&#x27;: [500, 1000, 2000, 5000],\n",
       "                                        &#x27;reg_alpha&#x27;: [0, 0.01, 0.1, 1],\n",
       "                                        &#x27;reg_lambda&#x27;: [1, 1.5, 2],\n",
       "                                        &#x27;subsample&#x27;: [0.6, 0.8, 1.0]},\n",
       "                   scoring=&#x27;neg_root_mean_squared_error&#x27;, verbose=2)</pre></div></div></div><div class=\"sk-parallel\"><div class=\"sk-parallel-item\"><div class=\"sk-item\"><div class=\"sk-label-container\"><div class=\"sk-label sk-toggleable\"><input class=\"sk-toggleable__control sk-hidden--visually\" id=\"sk-estimator-id-3\" type=\"checkbox\" ><label for=\"sk-estimator-id-3\" class=\"sk-toggleable__label sk-toggleable__label-arrow\">estimator: XGBRegressor</label><div class=\"sk-toggleable__content\"><pre>XGBRegressor(base_score=None, booster=None, callbacks=None,\n",
       "             colsample_bylevel=None, colsample_bynode=None,\n",
       "             colsample_bytree=None, device=None, early_stopping_rounds=None,\n",
       "             enable_categorical=False, eval_metric=None, feature_types=None,\n",
       "             gamma=None, grow_policy=None, importance_type=None,\n",
       "             interaction_constraints=None, learning_rate=None, max_bin=None,\n",
       "             max_cat_threshold=None, max_cat_to_onehot=None,\n",
       "             max_delta_step=None, max_depth=None, max_leaves=None,\n",
       "             min_child_weight=None, missing=nan, monotone_constraints=None,\n",
       "             multi_strategy=None, n_estimators=None, n_jobs=None,\n",
       "             num_parallel_tree=None, random_state=42, ...)</pre></div></div></div><div class=\"sk-serial\"><div class=\"sk-item\"><div class=\"sk-estimator sk-toggleable\"><input class=\"sk-toggleable__control sk-hidden--visually\" id=\"sk-estimator-id-4\" type=\"checkbox\" ><label for=\"sk-estimator-id-4\" class=\"sk-toggleable__label sk-toggleable__label-arrow\">XGBRegressor</label><div class=\"sk-toggleable__content\"><pre>XGBRegressor(base_score=None, booster=None, callbacks=None,\n",
       "             colsample_bylevel=None, colsample_bynode=None,\n",
       "             colsample_bytree=None, device=None, early_stopping_rounds=None,\n",
       "             enable_categorical=False, eval_metric=None, feature_types=None,\n",
       "             gamma=None, grow_policy=None, importance_type=None,\n",
       "             interaction_constraints=None, learning_rate=None, max_bin=None,\n",
       "             max_cat_threshold=None, max_cat_to_onehot=None,\n",
       "             max_delta_step=None, max_depth=None, max_leaves=None,\n",
       "             min_child_weight=None, missing=nan, monotone_constraints=None,\n",
       "             multi_strategy=None, n_estimators=None, n_jobs=None,\n",
       "             num_parallel_tree=None, random_state=42, ...)</pre></div></div></div></div></div></div></div></div></div></div>"
      ],
      "text/plain": [
       "RandomizedSearchCV(cv=5,\n",
       "                   estimator=XGBRegressor(base_score=None, booster=None,\n",
       "                                          callbacks=None,\n",
       "                                          colsample_bylevel=None,\n",
       "                                          colsample_bynode=None,\n",
       "                                          colsample_bytree=None, device=None,\n",
       "                                          early_stopping_rounds=None,\n",
       "                                          enable_categorical=False,\n",
       "                                          eval_metric=None, feature_types=None,\n",
       "                                          gamma=None, grow_policy=None,\n",
       "                                          importance_type=None,\n",
       "                                          interaction_constraints=None,\n",
       "                                          learning_rate=...\n",
       "                                          n_estimators=None, n_jobs=None,\n",
       "                                          num_parallel_tree=None,\n",
       "                                          random_state=42, ...),\n",
       "                   n_iter=20, n_jobs=-1,\n",
       "                   param_distributions={'colsample_bytree': [0.6, 0.8, 1.0],\n",
       "                                        'learning_rate': [0.01, 0.05, 0.1],\n",
       "                                        'max_depth': [2, 3, 4, 5],\n",
       "                                        'n_estimators': [500, 1000, 2000, 5000],\n",
       "                                        'reg_alpha': [0, 0.01, 0.1, 1],\n",
       "                                        'reg_lambda': [1, 1.5, 2],\n",
       "                                        'subsample': [0.6, 0.8, 1.0]},\n",
       "                   scoring='neg_root_mean_squared_error', verbose=2)"
      ]
     },
     "execution_count": 38,
     "metadata": {},
     "output_type": "execute_result"
    }
   ],
   "source": [
    "# Runing Randomized Search\n",
    "\n",
    "xgb_model = xgb.XGBRegressor(\n",
    "    objective=\"reg:squarederror\",\n",
    "    random_state=42\n",
    ")\n",
    "\n",
    "random_search = RandomizedSearchCV(\n",
    "    estimator=xgb_model,\n",
    "    param_distributions=param_grid,\n",
    "    n_iter=20,             # number of parameter settings sampled\n",
    "    scoring=\"neg_root_mean_squared_error\",\n",
    "    cv=5,                  # 5-fold cross validation\n",
    "    verbose=2,\n",
    "    n_jobs=-1\n",
    ")\n",
    "\n",
    "random_search.fit(x_train, y_train_log)\n"
   ]
  },
  {
   "cell_type": "code",
   "execution_count": 39,
   "id": "4fde620d",
   "metadata": {
    "execution": {
     "iopub.execute_input": "2025-10-25T15:06:50.183512Z",
     "iopub.status.busy": "2025-10-25T15:06:50.182538Z",
     "iopub.status.idle": "2025-10-25T15:06:50.187802Z",
     "shell.execute_reply": "2025-10-25T15:06:50.186873Z"
    },
    "papermill": {
     "duration": 0.020274,
     "end_time": "2025-10-25T15:06:50.189062",
     "exception": false,
     "start_time": "2025-10-25T15:06:50.168788",
     "status": "completed"
    },
    "tags": []
   },
   "outputs": [
    {
     "name": "stdout",
     "output_type": "stream",
     "text": [
      "Best Parameters: {'subsample': 0.8, 'reg_lambda': 1.5, 'reg_alpha': 0.1, 'n_estimators': 5000, 'max_depth': 3, 'learning_rate': 0.01, 'colsample_bytree': 0.6}\n",
      "Best CV Score (log RMSE): 0.1219937260547711\n"
     ]
    }
   ],
   "source": [
    "# Best Parameters & Model\n",
    "print(\"Best Parameters:\", random_search.best_params_)\n",
    "print(\"Best CV Score (log RMSE):\", -random_search.best_score_)\n"
   ]
  },
  {
   "cell_type": "code",
   "execution_count": 40,
   "id": "3a8549ee",
   "metadata": {
    "execution": {
     "iopub.execute_input": "2025-10-25T15:06:50.216091Z",
     "iopub.status.busy": "2025-10-25T15:06:50.215489Z",
     "iopub.status.idle": "2025-10-25T15:06:50.223099Z",
     "shell.execute_reply": "2025-10-25T15:06:50.222336Z"
    },
    "papermill": {
     "duration": 0.022446,
     "end_time": "2025-10-25T15:06:50.224525",
     "exception": false,
     "start_time": "2025-10-25T15:06:50.202079",
     "status": "completed"
    },
    "tags": []
   },
   "outputs": [
    {
     "data": {
      "text/html": [
       "<style>#sk-container-id-3 {color: black;background-color: white;}#sk-container-id-3 pre{padding: 0;}#sk-container-id-3 div.sk-toggleable {background-color: white;}#sk-container-id-3 label.sk-toggleable__label {cursor: pointer;display: block;width: 100%;margin-bottom: 0;padding: 0.3em;box-sizing: border-box;text-align: center;}#sk-container-id-3 label.sk-toggleable__label-arrow:before {content: \"▸\";float: left;margin-right: 0.25em;color: #696969;}#sk-container-id-3 label.sk-toggleable__label-arrow:hover:before {color: black;}#sk-container-id-3 div.sk-estimator:hover label.sk-toggleable__label-arrow:before {color: black;}#sk-container-id-3 div.sk-toggleable__content {max-height: 0;max-width: 0;overflow: hidden;text-align: left;background-color: #f0f8ff;}#sk-container-id-3 div.sk-toggleable__content pre {margin: 0.2em;color: black;border-radius: 0.25em;background-color: #f0f8ff;}#sk-container-id-3 input.sk-toggleable__control:checked~div.sk-toggleable__content {max-height: 200px;max-width: 100%;overflow: auto;}#sk-container-id-3 input.sk-toggleable__control:checked~label.sk-toggleable__label-arrow:before {content: \"▾\";}#sk-container-id-3 div.sk-estimator input.sk-toggleable__control:checked~label.sk-toggleable__label {background-color: #d4ebff;}#sk-container-id-3 div.sk-label input.sk-toggleable__control:checked~label.sk-toggleable__label {background-color: #d4ebff;}#sk-container-id-3 input.sk-hidden--visually {border: 0;clip: rect(1px 1px 1px 1px);clip: rect(1px, 1px, 1px, 1px);height: 1px;margin: -1px;overflow: hidden;padding: 0;position: absolute;width: 1px;}#sk-container-id-3 div.sk-estimator {font-family: monospace;background-color: #f0f8ff;border: 1px dotted black;border-radius: 0.25em;box-sizing: border-box;margin-bottom: 0.5em;}#sk-container-id-3 div.sk-estimator:hover {background-color: #d4ebff;}#sk-container-id-3 div.sk-parallel-item::after {content: \"\";width: 100%;border-bottom: 1px solid gray;flex-grow: 1;}#sk-container-id-3 div.sk-label:hover label.sk-toggleable__label {background-color: #d4ebff;}#sk-container-id-3 div.sk-serial::before {content: \"\";position: absolute;border-left: 1px solid gray;box-sizing: border-box;top: 0;bottom: 0;left: 50%;z-index: 0;}#sk-container-id-3 div.sk-serial {display: flex;flex-direction: column;align-items: center;background-color: white;padding-right: 0.2em;padding-left: 0.2em;position: relative;}#sk-container-id-3 div.sk-item {position: relative;z-index: 1;}#sk-container-id-3 div.sk-parallel {display: flex;align-items: stretch;justify-content: center;background-color: white;position: relative;}#sk-container-id-3 div.sk-item::before, #sk-container-id-3 div.sk-parallel-item::before {content: \"\";position: absolute;border-left: 1px solid gray;box-sizing: border-box;top: 0;bottom: 0;left: 50%;z-index: -1;}#sk-container-id-3 div.sk-parallel-item {display: flex;flex-direction: column;z-index: 1;position: relative;background-color: white;}#sk-container-id-3 div.sk-parallel-item:first-child::after {align-self: flex-end;width: 50%;}#sk-container-id-3 div.sk-parallel-item:last-child::after {align-self: flex-start;width: 50%;}#sk-container-id-3 div.sk-parallel-item:only-child::after {width: 0;}#sk-container-id-3 div.sk-dashed-wrapped {border: 1px dashed gray;margin: 0 0.4em 0.5em 0.4em;box-sizing: border-box;padding-bottom: 0.4em;background-color: white;}#sk-container-id-3 div.sk-label label {font-family: monospace;font-weight: bold;display: inline-block;line-height: 1.2em;}#sk-container-id-3 div.sk-label-container {text-align: center;}#sk-container-id-3 div.sk-container {/* jupyter's `normalize.less` sets `[hidden] { display: none; }` but bootstrap.min.css set `[hidden] { display: none !important; }` so we also need the `!important` here to be able to override the default hidden behavior on the sphinx rendered scikit-learn.org. See: https://github.com/scikit-learn/scikit-learn/issues/21755 */display: inline-block !important;position: relative;}#sk-container-id-3 div.sk-text-repr-fallback {display: none;}</style><div id=\"sk-container-id-3\" class=\"sk-top-container\"><div class=\"sk-text-repr-fallback\"><pre>XGBRegressor(base_score=None, booster=None, callbacks=None,\n",
       "             colsample_bylevel=None, colsample_bynode=None,\n",
       "             colsample_bytree=0.6, device=None, early_stopping_rounds=None,\n",
       "             enable_categorical=False, eval_metric=None, feature_types=None,\n",
       "             gamma=None, grow_policy=None, importance_type=None,\n",
       "             interaction_constraints=None, learning_rate=0.01, max_bin=None,\n",
       "             max_cat_threshold=None, max_cat_to_onehot=None,\n",
       "             max_delta_step=None, max_depth=3, max_leaves=None,\n",
       "             min_child_weight=None, missing=nan, monotone_constraints=None,\n",
       "             multi_strategy=None, n_estimators=5000, n_jobs=None,\n",
       "             num_parallel_tree=None, random_state=42, ...)</pre><b>In a Jupyter environment, please rerun this cell to show the HTML representation or trust the notebook. <br />On GitHub, the HTML representation is unable to render, please try loading this page with nbviewer.org.</b></div><div class=\"sk-container\" hidden><div class=\"sk-item\"><div class=\"sk-estimator sk-toggleable\"><input class=\"sk-toggleable__control sk-hidden--visually\" id=\"sk-estimator-id-5\" type=\"checkbox\" checked><label for=\"sk-estimator-id-5\" class=\"sk-toggleable__label sk-toggleable__label-arrow\">XGBRegressor</label><div class=\"sk-toggleable__content\"><pre>XGBRegressor(base_score=None, booster=None, callbacks=None,\n",
       "             colsample_bylevel=None, colsample_bynode=None,\n",
       "             colsample_bytree=0.6, device=None, early_stopping_rounds=None,\n",
       "             enable_categorical=False, eval_metric=None, feature_types=None,\n",
       "             gamma=None, grow_policy=None, importance_type=None,\n",
       "             interaction_constraints=None, learning_rate=0.01, max_bin=None,\n",
       "             max_cat_threshold=None, max_cat_to_onehot=None,\n",
       "             max_delta_step=None, max_depth=3, max_leaves=None,\n",
       "             min_child_weight=None, missing=nan, monotone_constraints=None,\n",
       "             multi_strategy=None, n_estimators=5000, n_jobs=None,\n",
       "             num_parallel_tree=None, random_state=42, ...)</pre></div></div></div></div></div>"
      ],
      "text/plain": [
       "XGBRegressor(base_score=None, booster=None, callbacks=None,\n",
       "             colsample_bylevel=None, colsample_bynode=None,\n",
       "             colsample_bytree=0.6, device=None, early_stopping_rounds=None,\n",
       "             enable_categorical=False, eval_metric=None, feature_types=None,\n",
       "             gamma=None, grow_policy=None, importance_type=None,\n",
       "             interaction_constraints=None, learning_rate=0.01, max_bin=None,\n",
       "             max_cat_threshold=None, max_cat_to_onehot=None,\n",
       "             max_delta_step=None, max_depth=3, max_leaves=None,\n",
       "             min_child_weight=None, missing=nan, monotone_constraints=None,\n",
       "             multi_strategy=None, n_estimators=5000, n_jobs=None,\n",
       "             num_parallel_tree=None, random_state=42, ...)"
      ]
     },
     "execution_count": 40,
     "metadata": {},
     "output_type": "execute_result"
    }
   ],
   "source": [
    "best_model = random_search.best_estimator_\n",
    "best_model"
   ]
  },
  {
   "cell_type": "markdown",
   "id": "84da87fa",
   "metadata": {
    "papermill": {
     "duration": 0.012762,
     "end_time": "2025-10-25T15:06:50.250639",
     "exception": false,
     "start_time": "2025-10-25T15:06:50.237877",
     "status": "completed"
    },
    "tags": []
   },
   "source": [
    "## Prediction on Test Data"
   ]
  },
  {
   "cell_type": "code",
   "execution_count": 41,
   "id": "57c0cbee",
   "metadata": {
    "execution": {
     "iopub.execute_input": "2025-10-25T15:06:50.277836Z",
     "iopub.status.busy": "2025-10-25T15:06:50.277536Z",
     "iopub.status.idle": "2025-10-25T15:06:50.356648Z",
     "shell.execute_reply": "2025-10-25T15:06:50.355974Z"
    },
    "papermill": {
     "duration": 0.094629,
     "end_time": "2025-10-25T15:06:50.358157",
     "exception": false,
     "start_time": "2025-10-25T15:06:50.263528",
     "status": "completed"
    },
    "tags": []
   },
   "outputs": [],
   "source": [
    "# Predicting on Test Data\n",
    "\n",
    "y_pred_log_test = best_model.predict(test_data)\n",
    "y_pred = np.expm1(y_pred_log_test)\n",
    "sub_df = pd.read_csv('/kaggle/input/house-prices-advanced-regression-techniques/sample_submission.csv')\n",
    "\n",
    "# To create sumbission file\n",
    "submission = pd.DataFrame({\"Id\": sub_df['Id'], \"SalePrice\": y_pred})\n",
    "submission.to_csv(\"submission_tuned.csv\", index=False)"
   ]
  }
 ],
 "metadata": {
  "kaggle": {
   "accelerator": "none",
   "dataSources": [
    {
     "databundleVersionId": 868283,
     "sourceId": 5407,
     "sourceType": "competition"
    },
    {
     "datasetId": 8457429,
     "sourceId": 13337846,
     "sourceType": "datasetVersion"
    }
   ],
   "dockerImageVersionId": 31153,
   "isGpuEnabled": false,
   "isInternetEnabled": false,
   "language": "python",
   "sourceType": "notebook"
  },
  "kernelspec": {
   "display_name": "Python 3",
   "language": "python",
   "name": "python3"
  },
  "language_info": {
   "codemirror_mode": {
    "name": "ipython",
    "version": 3
   },
   "file_extension": ".py",
   "mimetype": "text/x-python",
   "name": "python",
   "nbconvert_exporter": "python",
   "pygments_lexer": "ipython3",
   "version": "3.11.13"
  },
  "papermill": {
   "default_parameters": {},
   "duration": 191.781123,
   "end_time": "2025-10-25T15:06:52.990377",
   "environment_variables": {},
   "exception": null,
   "input_path": "__notebook__.ipynb",
   "output_path": "__notebook__.ipynb",
   "parameters": {},
   "start_time": "2025-10-25T15:03:41.209254",
   "version": "2.6.0"
  }
 },
 "nbformat": 4,
 "nbformat_minor": 5
}
